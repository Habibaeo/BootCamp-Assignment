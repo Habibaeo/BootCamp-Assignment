{
  "nbformat": 4,
  "nbformat_minor": 0,
  "metadata": {
    "kernelspec": {
      "display_name": "Python 3",
      "language": "python",
      "name": "python3"
    },
    "language_info": {
      "codemirror_mode": {
        "name": "ipython",
        "version": 3
      },
      "file_extension": ".py",
      "mimetype": "text/x-python",
      "name": "python",
      "nbconvert_exporter": "python",
      "pygments_lexer": "ipython3",
      "version": "3.7.3"
    },
    "colab": {
      "name": "1. (Solved)Car Price Prediction assignment.ipynb",
      "provenance": [],
      "collapsed_sections": [],
      "include_colab_link": true
    }
  },
  "cells": [
    {
      "cell_type": "markdown",
      "metadata": {
        "id": "view-in-github",
        "colab_type": "text"
      },
      "source": [
        "<a href=\"https://colab.research.google.com/github/Habibaeo/BootCamp-Assignment/blob/master/1_(Solved)Car_Price_Prediction_assignment.ipynb\" target=\"_parent\"><img src=\"https://colab.research.google.com/assets/colab-badge.svg\" alt=\"Open In Colab\"/></a>"
      ]
    },
    {
      "cell_type": "markdown",
      "metadata": {
        "id": "voXBKAC75Pi-"
      },
      "source": [
        "# Car Price Prediction::"
      ]
    },
    {
      "cell_type": "markdown",
      "metadata": {
        "id": "0_4l_xrv5Pjo"
      },
      "source": [
        "Download dataset from this link:\n",
        "\n",
        "https://www.kaggle.com/hellbuoy/car-price-prediction"
      ]
    },
    {
      "cell_type": "markdown",
      "metadata": {
        "id": "k8g-XKdv5Pjs"
      },
      "source": [
        "# Problem Statement::"
      ]
    },
    {
      "cell_type": "markdown",
      "metadata": {
        "id": "0I233ZtJ5Pju"
      },
      "source": [
        "A Chinese automobile company Geely Auto aspires to enter the US market by setting up their manufacturing unit there and producing cars locally to give competition to their US and European counterparts.\n",
        "\n",
        "They have contracted an automobile consulting company to understand the factors on which the pricing of cars depends. Specifically, they want to understand the factors affecting the pricing of cars in the American market, since those may be very different from the Chinese market. The company wants to know:\n",
        "\n",
        "Which variables are significant in predicting the price of a car\n",
        "How well those variables describe the price of a car\n",
        "Based on various market surveys, the consulting firm has gathered a large data set of different types of cars across the America market.\n",
        "\n",
        "# task::\n",
        "We are required to model the price of cars with the available independent variables. It will be used by the management to understand how exactly the prices vary with the independent variables. They can accordingly manipulate the design of the cars, the business strategy etc. to meet certain price levels. Further, the model will be a good way for management to understand the pricing dynamics of a new market."
      ]
    },
    {
      "cell_type": "markdown",
      "metadata": {
        "id": "J6eYxXpH5Pjx"
      },
      "source": [
        "# WORKFLOW ::"
      ]
    },
    {
      "cell_type": "markdown",
      "metadata": {
        "id": "nHGmlutB5Pjz"
      },
      "source": [
        "1.Load Data\n",
        "\n",
        "2.Check Missing Values ( If Exist ; Fill each record with mean of its feature )\n",
        "\n",
        "3.Split into 50% Training(Samples,Labels) , 30% Test(Samples,Labels) and 20% Validation Data(Samples,Labels).\n",
        "\n",
        "4.Model : input Layer (No. of features ), 3 hidden layers including 10,8,6 unit & Output Layer with activation function relu/tanh (check by experiment).\n",
        "\n",
        "5.Compilation Step (Note : Its a Regression problem , select loss , metrics according to it)\n",
        "6.Train the Model with Epochs (100) and validate it\n",
        "\n",
        "7.If the model gets overfit tune your model by changing the units , No. of layers , activation function , epochs , add dropout layer or add Regularizer according to the need .\n",
        "\n",
        "8.Evaluation Step\n",
        "\n",
        "9.Prediction"
      ]
    },
    {
      "cell_type": "code",
      "metadata": {
        "id": "EMNhsaH-5Pj2"
      },
      "source": [
        "import numpy as np\n",
        "import pandas as pd\n",
        "cars_data = pd.read_csv('CarPrice_Assignment.csv')"
      ],
      "execution_count": 1,
      "outputs": []
    },
    {
      "cell_type": "code",
      "metadata": {
        "id": "bQqtzlOj5Pj3"
      },
      "source": [
        "import tensorflow as tf\n",
        "import tensorflow.keras.backend as K"
      ],
      "execution_count": 2,
      "outputs": []
    },
    {
      "cell_type": "code",
      "metadata": {
        "colab": {
          "base_uri": "https://localhost:8080/",
          "height": 337
        },
        "id": "1xhdGrJD5Pj4",
        "outputId": "9633c7c5-b468-4ca5-9997-db2af2c2d4cf"
      },
      "source": [
        "cars_data.head(7)"
      ],
      "execution_count": 3,
      "outputs": [
        {
          "output_type": "execute_result",
          "data": {
            "text/html": [
              "<div>\n",
              "<style scoped>\n",
              "    .dataframe tbody tr th:only-of-type {\n",
              "        vertical-align: middle;\n",
              "    }\n",
              "\n",
              "    .dataframe tbody tr th {\n",
              "        vertical-align: top;\n",
              "    }\n",
              "\n",
              "    .dataframe thead th {\n",
              "        text-align: right;\n",
              "    }\n",
              "</style>\n",
              "<table border=\"1\" class=\"dataframe\">\n",
              "  <thead>\n",
              "    <tr style=\"text-align: right;\">\n",
              "      <th></th>\n",
              "      <th>car_ID</th>\n",
              "      <th>symboling</th>\n",
              "      <th>CarName</th>\n",
              "      <th>fueltype</th>\n",
              "      <th>aspiration</th>\n",
              "      <th>doornumber</th>\n",
              "      <th>carbody</th>\n",
              "      <th>drivewheel</th>\n",
              "      <th>enginelocation</th>\n",
              "      <th>wheelbase</th>\n",
              "      <th>carlength</th>\n",
              "      <th>carwidth</th>\n",
              "      <th>carheight</th>\n",
              "      <th>curbweight</th>\n",
              "      <th>enginetype</th>\n",
              "      <th>cylindernumber</th>\n",
              "      <th>enginesize</th>\n",
              "      <th>fuelsystem</th>\n",
              "      <th>boreratio</th>\n",
              "      <th>stroke</th>\n",
              "      <th>compressionratio</th>\n",
              "      <th>horsepower</th>\n",
              "      <th>peakrpm</th>\n",
              "      <th>citympg</th>\n",
              "      <th>highwaympg</th>\n",
              "      <th>price</th>\n",
              "    </tr>\n",
              "  </thead>\n",
              "  <tbody>\n",
              "    <tr>\n",
              "      <th>0</th>\n",
              "      <td>1</td>\n",
              "      <td>3</td>\n",
              "      <td>alfa-romero giulia</td>\n",
              "      <td>gas</td>\n",
              "      <td>std</td>\n",
              "      <td>two</td>\n",
              "      <td>convertible</td>\n",
              "      <td>rwd</td>\n",
              "      <td>front</td>\n",
              "      <td>88.6</td>\n",
              "      <td>168.8</td>\n",
              "      <td>64.1</td>\n",
              "      <td>48.8</td>\n",
              "      <td>2548</td>\n",
              "      <td>dohc</td>\n",
              "      <td>four</td>\n",
              "      <td>130</td>\n",
              "      <td>mpfi</td>\n",
              "      <td>3.47</td>\n",
              "      <td>2.68</td>\n",
              "      <td>9.0</td>\n",
              "      <td>111</td>\n",
              "      <td>5000</td>\n",
              "      <td>21</td>\n",
              "      <td>27</td>\n",
              "      <td>13495.0</td>\n",
              "    </tr>\n",
              "    <tr>\n",
              "      <th>1</th>\n",
              "      <td>2</td>\n",
              "      <td>3</td>\n",
              "      <td>alfa-romero stelvio</td>\n",
              "      <td>gas</td>\n",
              "      <td>std</td>\n",
              "      <td>two</td>\n",
              "      <td>convertible</td>\n",
              "      <td>rwd</td>\n",
              "      <td>front</td>\n",
              "      <td>88.6</td>\n",
              "      <td>168.8</td>\n",
              "      <td>64.1</td>\n",
              "      <td>48.8</td>\n",
              "      <td>2548</td>\n",
              "      <td>dohc</td>\n",
              "      <td>four</td>\n",
              "      <td>130</td>\n",
              "      <td>mpfi</td>\n",
              "      <td>3.47</td>\n",
              "      <td>2.68</td>\n",
              "      <td>9.0</td>\n",
              "      <td>111</td>\n",
              "      <td>5000</td>\n",
              "      <td>21</td>\n",
              "      <td>27</td>\n",
              "      <td>16500.0</td>\n",
              "    </tr>\n",
              "    <tr>\n",
              "      <th>2</th>\n",
              "      <td>3</td>\n",
              "      <td>1</td>\n",
              "      <td>alfa-romero Quadrifoglio</td>\n",
              "      <td>gas</td>\n",
              "      <td>std</td>\n",
              "      <td>two</td>\n",
              "      <td>hatchback</td>\n",
              "      <td>rwd</td>\n",
              "      <td>front</td>\n",
              "      <td>94.5</td>\n",
              "      <td>171.2</td>\n",
              "      <td>65.5</td>\n",
              "      <td>52.4</td>\n",
              "      <td>2823</td>\n",
              "      <td>ohcv</td>\n",
              "      <td>six</td>\n",
              "      <td>152</td>\n",
              "      <td>mpfi</td>\n",
              "      <td>2.68</td>\n",
              "      <td>3.47</td>\n",
              "      <td>9.0</td>\n",
              "      <td>154</td>\n",
              "      <td>5000</td>\n",
              "      <td>19</td>\n",
              "      <td>26</td>\n",
              "      <td>16500.0</td>\n",
              "    </tr>\n",
              "    <tr>\n",
              "      <th>3</th>\n",
              "      <td>4</td>\n",
              "      <td>2</td>\n",
              "      <td>audi 100 ls</td>\n",
              "      <td>gas</td>\n",
              "      <td>std</td>\n",
              "      <td>four</td>\n",
              "      <td>sedan</td>\n",
              "      <td>fwd</td>\n",
              "      <td>front</td>\n",
              "      <td>99.8</td>\n",
              "      <td>176.6</td>\n",
              "      <td>66.2</td>\n",
              "      <td>54.3</td>\n",
              "      <td>2337</td>\n",
              "      <td>ohc</td>\n",
              "      <td>four</td>\n",
              "      <td>109</td>\n",
              "      <td>mpfi</td>\n",
              "      <td>3.19</td>\n",
              "      <td>3.40</td>\n",
              "      <td>10.0</td>\n",
              "      <td>102</td>\n",
              "      <td>5500</td>\n",
              "      <td>24</td>\n",
              "      <td>30</td>\n",
              "      <td>13950.0</td>\n",
              "    </tr>\n",
              "    <tr>\n",
              "      <th>4</th>\n",
              "      <td>5</td>\n",
              "      <td>2</td>\n",
              "      <td>audi 100ls</td>\n",
              "      <td>gas</td>\n",
              "      <td>std</td>\n",
              "      <td>four</td>\n",
              "      <td>sedan</td>\n",
              "      <td>4wd</td>\n",
              "      <td>front</td>\n",
              "      <td>99.4</td>\n",
              "      <td>176.6</td>\n",
              "      <td>66.4</td>\n",
              "      <td>54.3</td>\n",
              "      <td>2824</td>\n",
              "      <td>ohc</td>\n",
              "      <td>five</td>\n",
              "      <td>136</td>\n",
              "      <td>mpfi</td>\n",
              "      <td>3.19</td>\n",
              "      <td>3.40</td>\n",
              "      <td>8.0</td>\n",
              "      <td>115</td>\n",
              "      <td>5500</td>\n",
              "      <td>18</td>\n",
              "      <td>22</td>\n",
              "      <td>17450.0</td>\n",
              "    </tr>\n",
              "    <tr>\n",
              "      <th>5</th>\n",
              "      <td>6</td>\n",
              "      <td>2</td>\n",
              "      <td>audi fox</td>\n",
              "      <td>gas</td>\n",
              "      <td>std</td>\n",
              "      <td>two</td>\n",
              "      <td>sedan</td>\n",
              "      <td>fwd</td>\n",
              "      <td>front</td>\n",
              "      <td>99.8</td>\n",
              "      <td>177.3</td>\n",
              "      <td>66.3</td>\n",
              "      <td>53.1</td>\n",
              "      <td>2507</td>\n",
              "      <td>ohc</td>\n",
              "      <td>five</td>\n",
              "      <td>136</td>\n",
              "      <td>mpfi</td>\n",
              "      <td>3.19</td>\n",
              "      <td>3.40</td>\n",
              "      <td>8.5</td>\n",
              "      <td>110</td>\n",
              "      <td>5500</td>\n",
              "      <td>19</td>\n",
              "      <td>25</td>\n",
              "      <td>15250.0</td>\n",
              "    </tr>\n",
              "    <tr>\n",
              "      <th>6</th>\n",
              "      <td>7</td>\n",
              "      <td>1</td>\n",
              "      <td>audi 100ls</td>\n",
              "      <td>gas</td>\n",
              "      <td>std</td>\n",
              "      <td>four</td>\n",
              "      <td>sedan</td>\n",
              "      <td>fwd</td>\n",
              "      <td>front</td>\n",
              "      <td>105.8</td>\n",
              "      <td>192.7</td>\n",
              "      <td>71.4</td>\n",
              "      <td>55.7</td>\n",
              "      <td>2844</td>\n",
              "      <td>ohc</td>\n",
              "      <td>five</td>\n",
              "      <td>136</td>\n",
              "      <td>mpfi</td>\n",
              "      <td>3.19</td>\n",
              "      <td>3.40</td>\n",
              "      <td>8.5</td>\n",
              "      <td>110</td>\n",
              "      <td>5500</td>\n",
              "      <td>19</td>\n",
              "      <td>25</td>\n",
              "      <td>17710.0</td>\n",
              "    </tr>\n",
              "  </tbody>\n",
              "</table>\n",
              "</div>"
            ],
            "text/plain": [
              "   car_ID  symboling                   CarName  ... citympg highwaympg    price\n",
              "0       1          3        alfa-romero giulia  ...      21         27  13495.0\n",
              "1       2          3       alfa-romero stelvio  ...      21         27  16500.0\n",
              "2       3          1  alfa-romero Quadrifoglio  ...      19         26  16500.0\n",
              "3       4          2               audi 100 ls  ...      24         30  13950.0\n",
              "4       5          2                audi 100ls  ...      18         22  17450.0\n",
              "5       6          2                  audi fox  ...      19         25  15250.0\n",
              "6       7          1                audi 100ls  ...      19         25  17710.0\n",
              "\n",
              "[7 rows x 26 columns]"
            ]
          },
          "metadata": {
            "tags": []
          },
          "execution_count": 3
        }
      ]
    },
    {
      "cell_type": "code",
      "metadata": {
        "colab": {
          "base_uri": "https://localhost:8080/"
        },
        "id": "eOvfLIpg5Pj5",
        "outputId": "5a7098ce-c619-4ec1-b3f3-2f40722a67ce"
      },
      "source": [
        "#check if there are empty cells#\n",
        "cars_data.isnull().any()\n"
      ],
      "execution_count": 4,
      "outputs": [
        {
          "output_type": "execute_result",
          "data": {
            "text/plain": [
              "car_ID              False\n",
              "symboling           False\n",
              "CarName             False\n",
              "fueltype            False\n",
              "aspiration          False\n",
              "doornumber          False\n",
              "carbody             False\n",
              "drivewheel          False\n",
              "enginelocation      False\n",
              "wheelbase           False\n",
              "carlength           False\n",
              "carwidth            False\n",
              "carheight           False\n",
              "curbweight          False\n",
              "enginetype          False\n",
              "cylindernumber      False\n",
              "enginesize          False\n",
              "fuelsystem          False\n",
              "boreratio           False\n",
              "stroke              False\n",
              "compressionratio    False\n",
              "horsepower          False\n",
              "peakrpm             False\n",
              "citympg             False\n",
              "highwaympg          False\n",
              "price               False\n",
              "dtype: bool"
            ]
          },
          "metadata": {
            "tags": []
          },
          "execution_count": 4
        }
      ]
    },
    {
      "cell_type": "code",
      "metadata": {
        "colab": {
          "base_uri": "https://localhost:8080/"
        },
        "id": "UvllgFWm5Pj6",
        "outputId": "da349ce3-6fc5-479b-8519-c6526d5d7387"
      },
      "source": [
        "cars_data.dtypes"
      ],
      "execution_count": 5,
      "outputs": [
        {
          "output_type": "execute_result",
          "data": {
            "text/plain": [
              "car_ID                int64\n",
              "symboling             int64\n",
              "CarName              object\n",
              "fueltype             object\n",
              "aspiration           object\n",
              "doornumber           object\n",
              "carbody              object\n",
              "drivewheel           object\n",
              "enginelocation       object\n",
              "wheelbase           float64\n",
              "carlength           float64\n",
              "carwidth            float64\n",
              "carheight           float64\n",
              "curbweight            int64\n",
              "enginetype           object\n",
              "cylindernumber       object\n",
              "enginesize            int64\n",
              "fuelsystem           object\n",
              "boreratio           float64\n",
              "stroke              float64\n",
              "compressionratio    float64\n",
              "horsepower            int64\n",
              "peakrpm               int64\n",
              "citympg               int64\n",
              "highwaympg            int64\n",
              "price               float64\n",
              "dtype: object"
            ]
          },
          "metadata": {
            "tags": []
          },
          "execution_count": 5
        }
      ]
    },
    {
      "cell_type": "code",
      "metadata": {
        "id": "cgU3uu4e5Pj-"
      },
      "source": [
        "from sklearn.preprocessing import LabelEncoder"
      ],
      "execution_count": 6,
      "outputs": []
    },
    {
      "cell_type": "code",
      "metadata": {
        "id": "XV-SHNTJ59zT"
      },
      "source": [
        "labelencoder = LabelEncoder()\n",
        "cars_data['fueltype'] = labelencoder.fit_transform(cars_data['fueltype'])\n",
        "cars_data['aspiration'] = labelencoder.fit_transform(cars_data['aspiration'])\n",
        "cars_data['doornumber'] = labelencoder.fit_transform(cars_data['doornumber'])\n",
        "cars_data['carbody'] = labelencoder.fit_transform(cars_data['carbody'])\n",
        "cars_data['drivewheel'] = labelencoder.fit_transform(cars_data['drivewheel'])\n",
        "cars_data['enginelocation'] = labelencoder.fit_transform(cars_data['enginelocation'])\n",
        "cars_data['enginetype'] = labelencoder.fit_transform(cars_data['enginetype'])\n",
        "cars_data['cylindernumber'] = labelencoder.fit_transform(cars_data['cylindernumber'])\n",
        "cars_data['fuelsystem'] = labelencoder.fit_transform(cars_data['fuelsystem'])"
      ],
      "execution_count": 7,
      "outputs": []
    },
    {
      "cell_type": "code",
      "metadata": {
        "colab": {
          "base_uri": "https://localhost:8080/",
          "height": 337
        },
        "id": "5HldMF9T6CAe",
        "outputId": "1a17866a-9e8e-42be-da53-36eed5855a50"
      },
      "source": [
        "cars_data.head(7)"
      ],
      "execution_count": 8,
      "outputs": [
        {
          "output_type": "execute_result",
          "data": {
            "text/html": [
              "<div>\n",
              "<style scoped>\n",
              "    .dataframe tbody tr th:only-of-type {\n",
              "        vertical-align: middle;\n",
              "    }\n",
              "\n",
              "    .dataframe tbody tr th {\n",
              "        vertical-align: top;\n",
              "    }\n",
              "\n",
              "    .dataframe thead th {\n",
              "        text-align: right;\n",
              "    }\n",
              "</style>\n",
              "<table border=\"1\" class=\"dataframe\">\n",
              "  <thead>\n",
              "    <tr style=\"text-align: right;\">\n",
              "      <th></th>\n",
              "      <th>car_ID</th>\n",
              "      <th>symboling</th>\n",
              "      <th>CarName</th>\n",
              "      <th>fueltype</th>\n",
              "      <th>aspiration</th>\n",
              "      <th>doornumber</th>\n",
              "      <th>carbody</th>\n",
              "      <th>drivewheel</th>\n",
              "      <th>enginelocation</th>\n",
              "      <th>wheelbase</th>\n",
              "      <th>carlength</th>\n",
              "      <th>carwidth</th>\n",
              "      <th>carheight</th>\n",
              "      <th>curbweight</th>\n",
              "      <th>enginetype</th>\n",
              "      <th>cylindernumber</th>\n",
              "      <th>enginesize</th>\n",
              "      <th>fuelsystem</th>\n",
              "      <th>boreratio</th>\n",
              "      <th>stroke</th>\n",
              "      <th>compressionratio</th>\n",
              "      <th>horsepower</th>\n",
              "      <th>peakrpm</th>\n",
              "      <th>citympg</th>\n",
              "      <th>highwaympg</th>\n",
              "      <th>price</th>\n",
              "    </tr>\n",
              "  </thead>\n",
              "  <tbody>\n",
              "    <tr>\n",
              "      <th>0</th>\n",
              "      <td>1</td>\n",
              "      <td>3</td>\n",
              "      <td>alfa-romero giulia</td>\n",
              "      <td>1</td>\n",
              "      <td>0</td>\n",
              "      <td>1</td>\n",
              "      <td>0</td>\n",
              "      <td>2</td>\n",
              "      <td>0</td>\n",
              "      <td>88.6</td>\n",
              "      <td>168.8</td>\n",
              "      <td>64.1</td>\n",
              "      <td>48.8</td>\n",
              "      <td>2548</td>\n",
              "      <td>0</td>\n",
              "      <td>2</td>\n",
              "      <td>130</td>\n",
              "      <td>5</td>\n",
              "      <td>3.47</td>\n",
              "      <td>2.68</td>\n",
              "      <td>9.0</td>\n",
              "      <td>111</td>\n",
              "      <td>5000</td>\n",
              "      <td>21</td>\n",
              "      <td>27</td>\n",
              "      <td>13495.0</td>\n",
              "    </tr>\n",
              "    <tr>\n",
              "      <th>1</th>\n",
              "      <td>2</td>\n",
              "      <td>3</td>\n",
              "      <td>alfa-romero stelvio</td>\n",
              "      <td>1</td>\n",
              "      <td>0</td>\n",
              "      <td>1</td>\n",
              "      <td>0</td>\n",
              "      <td>2</td>\n",
              "      <td>0</td>\n",
              "      <td>88.6</td>\n",
              "      <td>168.8</td>\n",
              "      <td>64.1</td>\n",
              "      <td>48.8</td>\n",
              "      <td>2548</td>\n",
              "      <td>0</td>\n",
              "      <td>2</td>\n",
              "      <td>130</td>\n",
              "      <td>5</td>\n",
              "      <td>3.47</td>\n",
              "      <td>2.68</td>\n",
              "      <td>9.0</td>\n",
              "      <td>111</td>\n",
              "      <td>5000</td>\n",
              "      <td>21</td>\n",
              "      <td>27</td>\n",
              "      <td>16500.0</td>\n",
              "    </tr>\n",
              "    <tr>\n",
              "      <th>2</th>\n",
              "      <td>3</td>\n",
              "      <td>1</td>\n",
              "      <td>alfa-romero Quadrifoglio</td>\n",
              "      <td>1</td>\n",
              "      <td>0</td>\n",
              "      <td>1</td>\n",
              "      <td>2</td>\n",
              "      <td>2</td>\n",
              "      <td>0</td>\n",
              "      <td>94.5</td>\n",
              "      <td>171.2</td>\n",
              "      <td>65.5</td>\n",
              "      <td>52.4</td>\n",
              "      <td>2823</td>\n",
              "      <td>5</td>\n",
              "      <td>3</td>\n",
              "      <td>152</td>\n",
              "      <td>5</td>\n",
              "      <td>2.68</td>\n",
              "      <td>3.47</td>\n",
              "      <td>9.0</td>\n",
              "      <td>154</td>\n",
              "      <td>5000</td>\n",
              "      <td>19</td>\n",
              "      <td>26</td>\n",
              "      <td>16500.0</td>\n",
              "    </tr>\n",
              "    <tr>\n",
              "      <th>3</th>\n",
              "      <td>4</td>\n",
              "      <td>2</td>\n",
              "      <td>audi 100 ls</td>\n",
              "      <td>1</td>\n",
              "      <td>0</td>\n",
              "      <td>0</td>\n",
              "      <td>3</td>\n",
              "      <td>1</td>\n",
              "      <td>0</td>\n",
              "      <td>99.8</td>\n",
              "      <td>176.6</td>\n",
              "      <td>66.2</td>\n",
              "      <td>54.3</td>\n",
              "      <td>2337</td>\n",
              "      <td>3</td>\n",
              "      <td>2</td>\n",
              "      <td>109</td>\n",
              "      <td>5</td>\n",
              "      <td>3.19</td>\n",
              "      <td>3.40</td>\n",
              "      <td>10.0</td>\n",
              "      <td>102</td>\n",
              "      <td>5500</td>\n",
              "      <td>24</td>\n",
              "      <td>30</td>\n",
              "      <td>13950.0</td>\n",
              "    </tr>\n",
              "    <tr>\n",
              "      <th>4</th>\n",
              "      <td>5</td>\n",
              "      <td>2</td>\n",
              "      <td>audi 100ls</td>\n",
              "      <td>1</td>\n",
              "      <td>0</td>\n",
              "      <td>0</td>\n",
              "      <td>3</td>\n",
              "      <td>0</td>\n",
              "      <td>0</td>\n",
              "      <td>99.4</td>\n",
              "      <td>176.6</td>\n",
              "      <td>66.4</td>\n",
              "      <td>54.3</td>\n",
              "      <td>2824</td>\n",
              "      <td>3</td>\n",
              "      <td>1</td>\n",
              "      <td>136</td>\n",
              "      <td>5</td>\n",
              "      <td>3.19</td>\n",
              "      <td>3.40</td>\n",
              "      <td>8.0</td>\n",
              "      <td>115</td>\n",
              "      <td>5500</td>\n",
              "      <td>18</td>\n",
              "      <td>22</td>\n",
              "      <td>17450.0</td>\n",
              "    </tr>\n",
              "    <tr>\n",
              "      <th>5</th>\n",
              "      <td>6</td>\n",
              "      <td>2</td>\n",
              "      <td>audi fox</td>\n",
              "      <td>1</td>\n",
              "      <td>0</td>\n",
              "      <td>1</td>\n",
              "      <td>3</td>\n",
              "      <td>1</td>\n",
              "      <td>0</td>\n",
              "      <td>99.8</td>\n",
              "      <td>177.3</td>\n",
              "      <td>66.3</td>\n",
              "      <td>53.1</td>\n",
              "      <td>2507</td>\n",
              "      <td>3</td>\n",
              "      <td>1</td>\n",
              "      <td>136</td>\n",
              "      <td>5</td>\n",
              "      <td>3.19</td>\n",
              "      <td>3.40</td>\n",
              "      <td>8.5</td>\n",
              "      <td>110</td>\n",
              "      <td>5500</td>\n",
              "      <td>19</td>\n",
              "      <td>25</td>\n",
              "      <td>15250.0</td>\n",
              "    </tr>\n",
              "    <tr>\n",
              "      <th>6</th>\n",
              "      <td>7</td>\n",
              "      <td>1</td>\n",
              "      <td>audi 100ls</td>\n",
              "      <td>1</td>\n",
              "      <td>0</td>\n",
              "      <td>0</td>\n",
              "      <td>3</td>\n",
              "      <td>1</td>\n",
              "      <td>0</td>\n",
              "      <td>105.8</td>\n",
              "      <td>192.7</td>\n",
              "      <td>71.4</td>\n",
              "      <td>55.7</td>\n",
              "      <td>2844</td>\n",
              "      <td>3</td>\n",
              "      <td>1</td>\n",
              "      <td>136</td>\n",
              "      <td>5</td>\n",
              "      <td>3.19</td>\n",
              "      <td>3.40</td>\n",
              "      <td>8.5</td>\n",
              "      <td>110</td>\n",
              "      <td>5500</td>\n",
              "      <td>19</td>\n",
              "      <td>25</td>\n",
              "      <td>17710.0</td>\n",
              "    </tr>\n",
              "  </tbody>\n",
              "</table>\n",
              "</div>"
            ],
            "text/plain": [
              "   car_ID  symboling                   CarName  ...  citympg  highwaympg    price\n",
              "0       1          3        alfa-romero giulia  ...       21          27  13495.0\n",
              "1       2          3       alfa-romero stelvio  ...       21          27  16500.0\n",
              "2       3          1  alfa-romero Quadrifoglio  ...       19          26  16500.0\n",
              "3       4          2               audi 100 ls  ...       24          30  13950.0\n",
              "4       5          2                audi 100ls  ...       18          22  17450.0\n",
              "5       6          2                  audi fox  ...       19          25  15250.0\n",
              "6       7          1                audi 100ls  ...       19          25  17710.0\n",
              "\n",
              "[7 rows x 26 columns]"
            ]
          },
          "metadata": {
            "tags": []
          },
          "execution_count": 8
        }
      ]
    },
    {
      "cell_type": "code",
      "metadata": {
        "colab": {
          "base_uri": "https://localhost:8080/"
        },
        "id": "_V7IvJjD6HDu",
        "outputId": "a809ec0a-deca-4e55-81cb-1152fa73419f"
      },
      "source": [
        "cars_data.columns"
      ],
      "execution_count": 9,
      "outputs": [
        {
          "output_type": "execute_result",
          "data": {
            "text/plain": [
              "Index(['car_ID', 'symboling', 'CarName', 'fueltype', 'aspiration',\n",
              "       'doornumber', 'carbody', 'drivewheel', 'enginelocation', 'wheelbase',\n",
              "       'carlength', 'carwidth', 'carheight', 'curbweight', 'enginetype',\n",
              "       'cylindernumber', 'enginesize', 'fuelsystem', 'boreratio', 'stroke',\n",
              "       'compressionratio', 'horsepower', 'peakrpm', 'citympg', 'highwaympg',\n",
              "       'price'],\n",
              "      dtype='object')"
            ]
          },
          "metadata": {
            "tags": []
          },
          "execution_count": 9
        }
      ]
    },
    {
      "cell_type": "code",
      "metadata": {
        "id": "9enHXWlO6KkI"
      },
      "source": [
        "cars_data.drop(columns=['car_ID','symboling', 'CarName', 'fueltype', 'aspiration', 'doornumber',\n",
        "       'carbody', 'drivewheel', 'enginelocation','enginetype', 'cylindernumber', 'fuelsystem' ], inplace = True)"
      ],
      "execution_count": 10,
      "outputs": []
    },
    {
      "cell_type": "code",
      "metadata": {
        "colab": {
          "base_uri": "https://localhost:8080/",
          "height": 204
        },
        "id": "ZvATQqOS6OVH",
        "outputId": "84fbc43c-7641-420c-8d81-e2807bbf8dc4"
      },
      "source": [
        "cars_data.head()"
      ],
      "execution_count": 11,
      "outputs": [
        {
          "output_type": "execute_result",
          "data": {
            "text/html": [
              "<div>\n",
              "<style scoped>\n",
              "    .dataframe tbody tr th:only-of-type {\n",
              "        vertical-align: middle;\n",
              "    }\n",
              "\n",
              "    .dataframe tbody tr th {\n",
              "        vertical-align: top;\n",
              "    }\n",
              "\n",
              "    .dataframe thead th {\n",
              "        text-align: right;\n",
              "    }\n",
              "</style>\n",
              "<table border=\"1\" class=\"dataframe\">\n",
              "  <thead>\n",
              "    <tr style=\"text-align: right;\">\n",
              "      <th></th>\n",
              "      <th>wheelbase</th>\n",
              "      <th>carlength</th>\n",
              "      <th>carwidth</th>\n",
              "      <th>carheight</th>\n",
              "      <th>curbweight</th>\n",
              "      <th>enginesize</th>\n",
              "      <th>boreratio</th>\n",
              "      <th>stroke</th>\n",
              "      <th>compressionratio</th>\n",
              "      <th>horsepower</th>\n",
              "      <th>peakrpm</th>\n",
              "      <th>citympg</th>\n",
              "      <th>highwaympg</th>\n",
              "      <th>price</th>\n",
              "    </tr>\n",
              "  </thead>\n",
              "  <tbody>\n",
              "    <tr>\n",
              "      <th>0</th>\n",
              "      <td>88.6</td>\n",
              "      <td>168.8</td>\n",
              "      <td>64.1</td>\n",
              "      <td>48.8</td>\n",
              "      <td>2548</td>\n",
              "      <td>130</td>\n",
              "      <td>3.47</td>\n",
              "      <td>2.68</td>\n",
              "      <td>9.0</td>\n",
              "      <td>111</td>\n",
              "      <td>5000</td>\n",
              "      <td>21</td>\n",
              "      <td>27</td>\n",
              "      <td>13495.0</td>\n",
              "    </tr>\n",
              "    <tr>\n",
              "      <th>1</th>\n",
              "      <td>88.6</td>\n",
              "      <td>168.8</td>\n",
              "      <td>64.1</td>\n",
              "      <td>48.8</td>\n",
              "      <td>2548</td>\n",
              "      <td>130</td>\n",
              "      <td>3.47</td>\n",
              "      <td>2.68</td>\n",
              "      <td>9.0</td>\n",
              "      <td>111</td>\n",
              "      <td>5000</td>\n",
              "      <td>21</td>\n",
              "      <td>27</td>\n",
              "      <td>16500.0</td>\n",
              "    </tr>\n",
              "    <tr>\n",
              "      <th>2</th>\n",
              "      <td>94.5</td>\n",
              "      <td>171.2</td>\n",
              "      <td>65.5</td>\n",
              "      <td>52.4</td>\n",
              "      <td>2823</td>\n",
              "      <td>152</td>\n",
              "      <td>2.68</td>\n",
              "      <td>3.47</td>\n",
              "      <td>9.0</td>\n",
              "      <td>154</td>\n",
              "      <td>5000</td>\n",
              "      <td>19</td>\n",
              "      <td>26</td>\n",
              "      <td>16500.0</td>\n",
              "    </tr>\n",
              "    <tr>\n",
              "      <th>3</th>\n",
              "      <td>99.8</td>\n",
              "      <td>176.6</td>\n",
              "      <td>66.2</td>\n",
              "      <td>54.3</td>\n",
              "      <td>2337</td>\n",
              "      <td>109</td>\n",
              "      <td>3.19</td>\n",
              "      <td>3.40</td>\n",
              "      <td>10.0</td>\n",
              "      <td>102</td>\n",
              "      <td>5500</td>\n",
              "      <td>24</td>\n",
              "      <td>30</td>\n",
              "      <td>13950.0</td>\n",
              "    </tr>\n",
              "    <tr>\n",
              "      <th>4</th>\n",
              "      <td>99.4</td>\n",
              "      <td>176.6</td>\n",
              "      <td>66.4</td>\n",
              "      <td>54.3</td>\n",
              "      <td>2824</td>\n",
              "      <td>136</td>\n",
              "      <td>3.19</td>\n",
              "      <td>3.40</td>\n",
              "      <td>8.0</td>\n",
              "      <td>115</td>\n",
              "      <td>5500</td>\n",
              "      <td>18</td>\n",
              "      <td>22</td>\n",
              "      <td>17450.0</td>\n",
              "    </tr>\n",
              "  </tbody>\n",
              "</table>\n",
              "</div>"
            ],
            "text/plain": [
              "   wheelbase  carlength  carwidth  ...  citympg  highwaympg    price\n",
              "0       88.6      168.8      64.1  ...       21          27  13495.0\n",
              "1       88.6      168.8      64.1  ...       21          27  16500.0\n",
              "2       94.5      171.2      65.5  ...       19          26  16500.0\n",
              "3       99.8      176.6      66.2  ...       24          30  13950.0\n",
              "4       99.4      176.6      66.4  ...       18          22  17450.0\n",
              "\n",
              "[5 rows x 14 columns]"
            ]
          },
          "metadata": {
            "tags": []
          },
          "execution_count": 11
        }
      ]
    },
    {
      "cell_type": "code",
      "metadata": {
        "id": "yRZ1eRmL6YrF"
      },
      "source": [
        "ready_data = cars_data"
      ],
      "execution_count": 12,
      "outputs": []
    },
    {
      "cell_type": "code",
      "metadata": {
        "colab": {
          "base_uri": "https://localhost:8080/"
        },
        "id": "95s2GjEX6eAj",
        "outputId": "515daaca-3bdf-45e2-b4f3-15e0203255cf"
      },
      "source": [
        "ready_data.shape"
      ],
      "execution_count": 13,
      "outputs": [
        {
          "output_type": "execute_result",
          "data": {
            "text/plain": [
              "(205, 14)"
            ]
          },
          "metadata": {
            "tags": []
          },
          "execution_count": 13
        }
      ]
    },
    {
      "cell_type": "code",
      "metadata": {
        "id": "Qy1nERel6hEl"
      },
      "source": [
        "x = (ready_data.loc[:,ready_data.columns != 'price'])\n",
        "y = (ready_data.loc[:,ready_data.columns == 'price'])"
      ],
      "execution_count": 14,
      "outputs": []
    },
    {
      "cell_type": "code",
      "metadata": {
        "colab": {
          "base_uri": "https://localhost:8080/"
        },
        "id": "X8Swv6Je6lXx",
        "outputId": "b3330302-265c-4ee8-ace5-0dfb84108652"
      },
      "source": [
        "x.shape"
      ],
      "execution_count": 15,
      "outputs": [
        {
          "output_type": "execute_result",
          "data": {
            "text/plain": [
              "(205, 13)"
            ]
          },
          "metadata": {
            "tags": []
          },
          "execution_count": 15
        }
      ]
    },
    {
      "cell_type": "code",
      "metadata": {
        "colab": {
          "base_uri": "https://localhost:8080/"
        },
        "id": "VVpqNymM6oXz",
        "outputId": "1646932e-e7c5-4de2-8997-dc35f45fad2b"
      },
      "source": [
        "y.shape"
      ],
      "execution_count": 16,
      "outputs": [
        {
          "output_type": "execute_result",
          "data": {
            "text/plain": [
              "(205, 1)"
            ]
          },
          "metadata": {
            "tags": []
          },
          "execution_count": 16
        }
      ]
    },
    {
      "cell_type": "code",
      "metadata": {
        "id": "QRfBFPtL6tNc"
      },
      "source": [
        "from sklearn.model_selection import train_test_split\n",
        "x_train, x_test, y_train, y_test = train_test_split(x, y, train_size=0.70, random_state=42)"
      ],
      "execution_count": 17,
      "outputs": []
    },
    {
      "cell_type": "code",
      "metadata": {
        "colab": {
          "base_uri": "https://localhost:8080/"
        },
        "id": "RJ5pBqp66xSh",
        "outputId": "f06d5ebc-a5e4-4d97-c5e9-aff6a092de46"
      },
      "source": [
        "x_train.shape"
      ],
      "execution_count": 18,
      "outputs": [
        {
          "output_type": "execute_result",
          "data": {
            "text/plain": [
              "(143, 13)"
            ]
          },
          "metadata": {
            "tags": []
          },
          "execution_count": 18
        }
      ]
    },
    {
      "cell_type": "code",
      "metadata": {
        "colab": {
          "base_uri": "https://localhost:8080/"
        },
        "id": "ok04gzCC605s",
        "outputId": "9706cb0a-015b-462e-f86e-f1783f83a037"
      },
      "source": [
        "x_test.shape"
      ],
      "execution_count": 19,
      "outputs": [
        {
          "output_type": "execute_result",
          "data": {
            "text/plain": [
              "(62, 13)"
            ]
          },
          "metadata": {
            "tags": []
          },
          "execution_count": 19
        }
      ]
    },
    {
      "cell_type": "code",
      "metadata": {
        "id": "EtxjoXqh63ui"
      },
      "source": [
        "mean.x = x_train.mean(axis=0)\n",
        "x_train -= mean.x\n",
        "std.x = x_train.std(axis=0)\n",
        "x_train /= std.x\n",
        "x_test -= mean.x\n",
        "x_test /= std.x"
      ],
      "execution_count": 24,
      "outputs": []
    },
    {
      "cell_type": "code",
      "metadata": {
        "colab": {
          "base_uri": "https://localhost:8080/"
        },
        "id": "mxiE1Wsy7qTn",
        "outputId": "d92f384d-3a0c-4593-bb0e-63f6cc5690ab"
      },
      "source": [
        "mean.x"
      ],
      "execution_count": 25,
      "outputs": [
        {
          "output_type": "execute_result",
          "data": {
            "text/plain": [
              "wheelbase           5.628753e-18\n",
              "carlength           1.552759e-17\n",
              "carwidth           -2.542644e-17\n",
              "carheight           6.211038e-18\n",
              "curbweight          2.794967e-17\n",
              "enginesize         -1.552759e-17\n",
              "boreratio          -4.658278e-18\n",
              "stroke             -1.640102e-17\n",
              "compressionratio   -5.822848e-18\n",
              "horsepower         -3.571347e-17\n",
              "peakrpm            -1.339255e-17\n",
              "citympg            -1.397484e-17\n",
              "highwaympg          3.105519e-18\n",
              "dtype: float64"
            ]
          },
          "metadata": {
            "tags": []
          },
          "execution_count": 25
        }
      ]
    },
    {
      "cell_type": "code",
      "metadata": {
        "colab": {
          "base_uri": "https://localhost:8080/"
        },
        "id": "3nUUvwM-7_qb",
        "outputId": "cac1848d-f758-4c85-c62c-65b92d6a3342"
      },
      "source": [
        "std.x"
      ],
      "execution_count": 26,
      "outputs": [
        {
          "output_type": "execute_result",
          "data": {
            "text/plain": [
              "wheelbase           1.0\n",
              "carlength           1.0\n",
              "carwidth            1.0\n",
              "carheight           1.0\n",
              "curbweight          1.0\n",
              "enginesize          1.0\n",
              "boreratio           1.0\n",
              "stroke              1.0\n",
              "compressionratio    1.0\n",
              "horsepower          1.0\n",
              "peakrpm             1.0\n",
              "citympg             1.0\n",
              "highwaympg          1.0\n",
              "dtype: float64"
            ]
          },
          "metadata": {
            "tags": []
          },
          "execution_count": 26
        }
      ]
    },
    {
      "cell_type": "code",
      "metadata": {
        "id": "aj3J3sGL8E2r"
      },
      "source": [
        "mean.y = y_train.mean(axis=0)\n",
        "y_train -= mean.y\n",
        "std.y = y_train.std(axis=0)\n",
        "y_train /= std.y\n",
        "y_test -= mean.y\n",
        "y_test /= std.y"
      ],
      "execution_count": 27,
      "outputs": []
    },
    {
      "cell_type": "code",
      "metadata": {
        "colab": {
          "base_uri": "https://localhost:8080/"
        },
        "id": "L6uRoCSF8KBZ",
        "outputId": "cf222b34-9993-4a7a-ff40-7db136d556f4"
      },
      "source": [
        "mean.y"
      ],
      "execution_count": 28,
      "outputs": [
        {
          "output_type": "execute_result",
          "data": {
            "text/plain": [
              "price    13408.503497\n",
              "dtype: float64"
            ]
          },
          "metadata": {
            "tags": []
          },
          "execution_count": 28
        }
      ]
    },
    {
      "cell_type": "code",
      "metadata": {
        "colab": {
          "base_uri": "https://localhost:8080/"
        },
        "id": "P42hLZr28NQg",
        "outputId": "132314aa-c1d5-4276-a094-bd203cd8779c"
      },
      "source": [
        "std.y"
      ],
      "execution_count": 29,
      "outputs": [
        {
          "output_type": "execute_result",
          "data": {
            "text/plain": [
              "price    7834.464872\n",
              "dtype: float64"
            ]
          },
          "metadata": {
            "tags": []
          },
          "execution_count": 29
        }
      ]
    },
    {
      "cell_type": "code",
      "metadata": {
        "colab": {
          "base_uri": "https://localhost:8080/"
        },
        "id": "gYTmDB_f8PpB",
        "outputId": "9e296120-8c63-4368-9f02-3939bb710276"
      },
      "source": [
        "x_train.shape"
      ],
      "execution_count": 30,
      "outputs": [
        {
          "output_type": "execute_result",
          "data": {
            "text/plain": [
              "(143, 13)"
            ]
          },
          "metadata": {
            "tags": []
          },
          "execution_count": 30
        }
      ]
    },
    {
      "cell_type": "code",
      "metadata": {
        "id": "Rpq_p1Ja8R-M"
      },
      "source": [
        "from tensorflow.keras import models\n",
        "from tensorflow.keras import layers\n",
        "def build_model(abc):\n",
        "    model = models.Sequential()\n",
        "    model.add(layers.Dense(128, activation= abc , input_shape=(x_train.shape[1],)))\n",
        "    model.add(layers.Dense(64, activation= abc ))\n",
        "    model.add(layers.Dense(32, activation= abc ))\n",
        "    model.add(layers.Dense(1))\n",
        "    model.compile(optimizer='rmsprop', loss='mse', metrics=['mae'])\n",
        "    return model"
      ],
      "execution_count": 31,
      "outputs": []
    },
    {
      "cell_type": "code",
      "metadata": {
        "colab": {
          "base_uri": "https://localhost:8080/"
        },
        "id": "vGYSu1MA8YZ1",
        "outputId": "55ba67bd-f922-4d6e-aabf-dd76f46df77a"
      },
      "source": [
        "build_model"
      ],
      "execution_count": 32,
      "outputs": [
        {
          "output_type": "execute_result",
          "data": {
            "text/plain": [
              "<function __main__.build_model>"
            ]
          },
          "metadata": {
            "tags": []
          },
          "execution_count": 32
        }
      ]
    },
    {
      "cell_type": "code",
      "metadata": {
        "colab": {
          "base_uri": "https://localhost:8080/"
        },
        "id": "1ypBNYs68bwK",
        "outputId": "82085a61-9161-463f-da3a-e7720f1376b0"
      },
      "source": [
        "build_model('relu').summary()"
      ],
      "execution_count": 33,
      "outputs": [
        {
          "output_type": "stream",
          "text": [
            "Model: \"sequential\"\n",
            "_________________________________________________________________\n",
            "Layer (type)                 Output Shape              Param #   \n",
            "=================================================================\n",
            "dense (Dense)                (None, 128)               1792      \n",
            "_________________________________________________________________\n",
            "dense_1 (Dense)              (None, 64)                8256      \n",
            "_________________________________________________________________\n",
            "dense_2 (Dense)              (None, 32)                2080      \n",
            "_________________________________________________________________\n",
            "dense_3 (Dense)              (None, 1)                 33        \n",
            "=================================================================\n",
            "Total params: 12,161\n",
            "Trainable params: 12,161\n",
            "Non-trainable params: 0\n",
            "_________________________________________________________________\n"
          ],
          "name": "stdout"
        }
      ]
    },
    {
      "cell_type": "code",
      "metadata": {
        "colab": {
          "base_uri": "https://localhost:8080/"
        },
        "id": "zFTx3Mbw8fWF",
        "outputId": "a2a88c2e-866f-4505-99c6-e54c84865dfa"
      },
      "source": [
        "build_model('tanh').summary()"
      ],
      "execution_count": 34,
      "outputs": [
        {
          "output_type": "stream",
          "text": [
            "Model: \"sequential_1\"\n",
            "_________________________________________________________________\n",
            "Layer (type)                 Output Shape              Param #   \n",
            "=================================================================\n",
            "dense_4 (Dense)              (None, 128)               1792      \n",
            "_________________________________________________________________\n",
            "dense_5 (Dense)              (None, 64)                8256      \n",
            "_________________________________________________________________\n",
            "dense_6 (Dense)              (None, 32)                2080      \n",
            "_________________________________________________________________\n",
            "dense_7 (Dense)              (None, 1)                 33        \n",
            "=================================================================\n",
            "Total params: 12,161\n",
            "Trainable params: 12,161\n",
            "Non-trainable params: 0\n",
            "_________________________________________________________________\n"
          ],
          "name": "stdout"
        }
      ]
    },
    {
      "cell_type": "markdown",
      "metadata": {
        "id": "QWFZJBZh8xf6"
      },
      "source": [
        "**k fold validation with relu**\n"
      ]
    },
    {
      "cell_type": "code",
      "metadata": {
        "id": "B8g06BZh88ya"
      },
      "source": [
        "k = 4\n",
        "num_val_samples = len(x_train) // k\n",
        "num_epochs = 100\n",
        "all_scores = []"
      ],
      "execution_count": 35,
      "outputs": []
    },
    {
      "cell_type": "code",
      "metadata": {
        "colab": {
          "base_uri": "https://localhost:8080/"
        },
        "id": "8e9PzUph9Gex",
        "outputId": "d665bd70-084d-4378-83f7-2c3b62981eaa"
      },
      "source": [
        "all_mae_histories_relu = []\n",
        "for i in range(k):\n",
        "    print('processing fold #', i)\n",
        "    val_data = x_train[i * num_val_samples: (i + 1) * num_val_samples]\n",
        "    val_targets = y_train[i * num_val_samples: (i + 1) * num_val_samples]\n",
        "    partial_train_data = np.concatenate([x_train[:i * num_val_samples],\n",
        "        x_train[(i + 1) * num_val_samples:]],axis=0)\n",
        "    partial_train_targets = np.concatenate(\n",
        "        [y_train[:i * num_val_samples],\n",
        "        y_train[(i + 1) * num_val_samples:]],\n",
        "        axis=0)\n",
        "    model = build_model('relu')\n",
        "    history_relu =model.fit(partial_train_data, partial_train_targets,\n",
        "        epochs=num_epochs, batch_size=1, verbose=0)\n",
        "    val_mse, val_mae = model.evaluate(val_data, val_targets, verbose=0)\n",
        "    all_scores.append(val_mae)\n",
        "    mae_history_relu = history_relu.history['mae']\n",
        "    all_mae_histories_relu.append(mae_history_relu)"
      ],
      "execution_count": 36,
      "outputs": [
        {
          "output_type": "stream",
          "text": [
            "processing fold # 0\n",
            "processing fold # 1\n",
            "processing fold # 2\n",
            "processing fold # 3\n"
          ],
          "name": "stdout"
        }
      ]
    },
    {
      "cell_type": "code",
      "metadata": {
        "id": "thmwwt4Q-RFp"
      },
      "source": [
        "average_mae_history_relu = [np.mean([x[i] for x in all_mae_histories_relu]) for i in range(num_epochs)]"
      ],
      "execution_count": 37,
      "outputs": []
    },
    {
      "cell_type": "code",
      "metadata": {
        "colab": {
          "base_uri": "https://localhost:8080/",
          "height": 279
        },
        "id": "n2kpt2pq_XBo",
        "outputId": "b5a5df7d-9702-4456-b5ba-91676f798e70"
      },
      "source": [
        "import matplotlib.pyplot as plt\n",
        "plt.plot(range(1, len(average_mae_history_relu) + 1), average_mae_history_relu)\n",
        "plt.xlabel('Epochs')\n",
        "plt.ylabel('Validation MAE')\n",
        "plt.show()"
      ],
      "execution_count": 41,
      "outputs": [
        {
          "output_type": "display_data",
          "data": {
            "image/png": "[encoded data removed]",
            "text/plain": [
              "<Figure size 432x288 with 1 Axes>"
            ]
          },
          "metadata": {
            "tags": [],
            "needs_background": "light"
          }
        }
      ]
    },
    {
      "cell_type": "markdown",
      "metadata": {
        "id": "hskoOckw-lY3"
      },
      "source": [
        "# K fold function with **tahn**"
      ]
    },
    {
      "cell_type": "code",
      "metadata": {
        "id": "q5Pq5AVe-m5_"
      },
      "source": [
        "k = 4\n",
        "num_val_samples = len(x_train) // k\n",
        "num_epochs = 100\n",
        "all_scores_tahn = []"
      ],
      "execution_count": 38,
      "outputs": []
    },
    {
      "cell_type": "code",
      "metadata": {
        "colab": {
          "base_uri": "https://localhost:8080/"
        },
        "id": "NPitrT2s-uPv",
        "outputId": "08032016-9389-464b-ee6a-c37c1f557dfb"
      },
      "source": [
        "all_mae_histories_tanh = []\n",
        "for i in range(k):\n",
        "    print('processing fold #', i)\n",
        "    val_data = x_train[i * num_val_samples: (i + 1) * num_val_samples]\n",
        "    val_targets = y_train[i * num_val_samples: (i + 1) * num_val_samples]\n",
        "    partial_train_data = np.concatenate([x_train[:i * num_val_samples],\n",
        "        x_train[(i + 1) * num_val_samples:]],axis=0)\n",
        "    partial_train_targets = np.concatenate(\n",
        "        [y_train[:i * num_val_samples],\n",
        "        y_train[(i + 1) * num_val_samples:]],\n",
        "        axis=0)\n",
        "    model = build_model('tanh')\n",
        "    history = model.fit(partial_train_data, partial_train_targets,\n",
        "        epochs=num_epochs, batch_size=1, verbose=0)\n",
        "    val_mse, val_mae = model.evaluate(val_data, val_targets, verbose=0)\n",
        "    all_scores_tahn.append(val_mae)\n",
        "    mae_history = history.history['mae']\n",
        "    all_mae_histories_tanh.append(mae_history)"
      ],
      "execution_count": 39,
      "outputs": [
        {
          "output_type": "stream",
          "text": [
            "processing fold # 0\n",
            "WARNING:tensorflow:5 out of the last 9 calls to <function Model.make_test_function.<locals>.test_function at 0x7ff3aa23f950> triggered tf.function retracing. Tracing is expensive and the excessive number of tracings could be due to (1) creating @tf.function repeatedly in a loop, (2) passing tensors with different shapes, (3) passing Python objects instead of tensors. For (1), please define your @tf.function outside of the loop. For (2), @tf.function has experimental_relax_shapes=True option that relaxes argument shapes that can avoid unnecessary retracing. For (3), please refer to https://www.tensorflow.org/guide/function#controlling_retracing and https://www.tensorflow.org/api_docs/python/tf/function for  more details.\n",
            "processing fold # 1\n",
            "WARNING:tensorflow:6 out of the last 11 calls to <function Model.make_test_function.<locals>.test_function at 0x7ff3aa276dd0> triggered tf.function retracing. Tracing is expensive and the excessive number of tracings could be due to (1) creating @tf.function repeatedly in a loop, (2) passing tensors with different shapes, (3) passing Python objects instead of tensors. For (1), please define your @tf.function outside of the loop. For (2), @tf.function has experimental_relax_shapes=True option that relaxes argument shapes that can avoid unnecessary retracing. For (3), please refer to https://www.tensorflow.org/guide/function#controlling_retracing and https://www.tensorflow.org/api_docs/python/tf/function for  more details.\n",
            "processing fold # 2\n",
            "WARNING:tensorflow:6 out of the last 11 calls to <function Model.make_test_function.<locals>.test_function at 0x7ff3aa273440> triggered tf.function retracing. Tracing is expensive and the excessive number of tracings could be due to (1) creating @tf.function repeatedly in a loop, (2) passing tensors with different shapes, (3) passing Python objects instead of tensors. For (1), please define your @tf.function outside of the loop. For (2), @tf.function has experimental_relax_shapes=True option that relaxes argument shapes that can avoid unnecessary retracing. For (3), please refer to https://www.tensorflow.org/guide/function#controlling_retracing and https://www.tensorflow.org/api_docs/python/tf/function for  more details.\n",
            "processing fold # 3\n",
            "WARNING:tensorflow:6 out of the last 11 calls to <function Model.make_test_function.<locals>.test_function at 0x7ff3a9658320> triggered tf.function retracing. Tracing is expensive and the excessive number of tracings could be due to (1) creating @tf.function repeatedly in a loop, (2) passing tensors with different shapes, (3) passing Python objects instead of tensors. For (1), please define your @tf.function outside of the loop. For (2), @tf.function has experimental_relax_shapes=True option that relaxes argument shapes that can avoid unnecessary retracing. For (3), please refer to https://www.tensorflow.org/guide/function#controlling_retracing and https://www.tensorflow.org/api_docs/python/tf/function for  more details.\n"
          ],
          "name": "stdout"
        }
      ]
    },
    {
      "cell_type": "code",
      "metadata": {
        "id": "nIQXKTww-zad"
      },
      "source": [
        "average_mae_history_tanh = [np.mean([x[i] for x in all_mae_histories_tanh]) for i in range(num_epochs)]"
      ],
      "execution_count": 40,
      "outputs": []
    },
    {
      "cell_type": "code",
      "metadata": {
        "colab": {
          "base_uri": "https://localhost:8080/",
          "height": 283
        },
        "id": "0e23AOXO_Ace",
        "outputId": "72af581c-3666-4c5a-8d62-69b4e69b97e8"
      },
      "source": [
        "import matplotlib.pyplot as plt\n",
        "plt.plot(range(1, len(average_mae_history_tanh) + 1), average_mae_history_tanh)\n",
        "plt.xlabel('Epochs')\n",
        "plt.ylabel('Validation MAE')\n",
        "plt.show()"
      ],
      "execution_count": 42,
      "outputs": [
        {
          "output_type": "display_data",
          "data": {
            "image/png": "[encoded data removed]",
            "text/plain": [
              "<Figure size 432x288 with 1 Axes>"
            ]
          },
          "metadata": {
            "tags": [],
            "needs_background": "light"
          }
        }
      ]
    },
    {
      "cell_type": "code",
      "metadata": {
        "id": "DSrU9QidAiY_"
      },
      "source": [
        "# Regularized model\n",
        "from tensorflow.keras import regularizers\n",
        "def build_model_regular(act):\n",
        "    model = models.Sequential()\n",
        "    model.add(layers.Dense(10, activation= act,kernel_regularizer= regularizers.l1_l2(l1=0.001, l2=0.001),input_shape=(x_train.shape[1],)))\n",
        "    model.add(layers.Dense(8, activation= act,kernel_regularizer= regularizers.l1_l2(l1=0.001, l2=0.001)))\n",
        "    model.add(layers.Dense(6, activation= act,kernel_regularizer= regularizers.l1_l2(l1=0.001, l2=0.001)))\n",
        "    model.add(layers.Dense(1))\n",
        "    model.compile(optimizer='rmsprop', loss='mse', metrics=['mae'])\n",
        "    return model"
      ],
      "execution_count": 46,
      "outputs": []
    },
    {
      "cell_type": "code",
      "metadata": {
        "colab": {
          "base_uri": "https://localhost:8080/"
        },
        "id": "UaZ4TOJsCzaU",
        "outputId": "8f2ef68f-2a2e-4b9e-817d-283975a6e51a"
      },
      "source": [
        "build_model_regular('tanh').summary()"
      ],
      "execution_count": 47,
      "outputs": [
        {
          "output_type": "stream",
          "text": [
            "Model: \"sequential_11\"\n",
            "_________________________________________________________________\n",
            "Layer (type)                 Output Shape              Param #   \n",
            "=================================================================\n",
            "dense_40 (Dense)             (None, 10)                140       \n",
            "_________________________________________________________________\n",
            "dense_41 (Dense)             (None, 8)                 88        \n",
            "_________________________________________________________________\n",
            "dense_42 (Dense)             (None, 6)                 54        \n",
            "_________________________________________________________________\n",
            "dense_43 (Dense)             (None, 1)                 7         \n",
            "=================================================================\n",
            "Total params: 289\n",
            "Trainable params: 289\n",
            "Non-trainable params: 0\n",
            "_________________________________________________________________\n"
          ],
          "name": "stdout"
        }
      ]
    },
    {
      "cell_type": "markdown",
      "metadata": {
        "id": "fiO3eS3JDRWy"
      },
      "source": [
        "# K fold function with **regularizer**"
      ]
    },
    {
      "cell_type": "code",
      "metadata": {
        "id": "Eodj5aADDSVa"
      },
      "source": [
        "k = 4\n",
        "num_val_samples = len(x_train) // k\n",
        "num_epochs = 100\n",
        "all_scores_regul = []"
      ],
      "execution_count": 48,
      "outputs": []
    },
    {
      "cell_type": "code",
      "metadata": {
        "colab": {
          "base_uri": "https://localhost:8080/"
        },
        "id": "t6UjOImrDxHT",
        "outputId": "2450d1c6-853a-46ac-8de6-5573bbb47da1"
      },
      "source": [
        "all_mae_histories_regul = []\n",
        "for i in range(k):\n",
        "    print('processing fold #', i)\n",
        "    val_data = x_train[i * num_val_samples: (i + 1) * num_val_samples]\n",
        "    val_targets = y_train[i * num_val_samples: (i + 1) * num_val_samples]\n",
        "    partial_train_data = np.concatenate([x_train[:i * num_val_samples],\n",
        "        x_train[(i + 1) * num_val_samples:]],axis=0)\n",
        "    partial_train_targets = np.concatenate(\n",
        "        [y_train[:i * num_val_samples],\n",
        "        y_train[(i + 1) * num_val_samples:]],\n",
        "        axis=0)\n",
        "    model = build_model('tanh')\n",
        "    history_regul = model.fit(partial_train_data, partial_train_targets,\n",
        "        epochs=num_epochs, batch_size=1, verbose=0)\n",
        "    val_mse, val_mae = model.evaluate(val_data, val_targets, verbose=0)\n",
        "    all_scores_regul.append(val_mae)\n",
        "    mae_history_regul = history_regul.history['mae']\n",
        "    all_mae_histories_regul.append(mae_history_regul)"
      ],
      "execution_count": 51,
      "outputs": [
        {
          "output_type": "stream",
          "text": [
            "processing fold # 0\n",
            "WARNING:tensorflow:6 out of the last 11 calls to <function Model.make_test_function.<locals>.test_function at 0x7ff39b5a4050> triggered tf.function retracing. Tracing is expensive and the excessive number of tracings could be due to (1) creating @tf.function repeatedly in a loop, (2) passing tensors with different shapes, (3) passing Python objects instead of tensors. For (1), please define your @tf.function outside of the loop. For (2), @tf.function has experimental_relax_shapes=True option that relaxes argument shapes that can avoid unnecessary retracing. For (3), please refer to https://www.tensorflow.org/guide/function#controlling_retracing and https://www.tensorflow.org/api_docs/python/tf/function for  more details.\n",
            "processing fold # 1\n",
            "WARNING:tensorflow:6 out of the last 11 calls to <function Model.make_test_function.<locals>.test_function at 0x7ff3a55d4560> triggered tf.function retracing. Tracing is expensive and the excessive number of tracings could be due to (1) creating @tf.function repeatedly in a loop, (2) passing tensors with different shapes, (3) passing Python objects instead of tensors. For (1), please define your @tf.function outside of the loop. For (2), @tf.function has experimental_relax_shapes=True option that relaxes argument shapes that can avoid unnecessary retracing. For (3), please refer to https://www.tensorflow.org/guide/function#controlling_retracing and https://www.tensorflow.org/api_docs/python/tf/function for  more details.\n",
            "processing fold # 2\n",
            "WARNING:tensorflow:6 out of the last 11 calls to <function Model.make_test_function.<locals>.test_function at 0x7ff3a25b37a0> triggered tf.function retracing. Tracing is expensive and the excessive number of tracings could be due to (1) creating @tf.function repeatedly in a loop, (2) passing tensors with different shapes, (3) passing Python objects instead of tensors. For (1), please define your @tf.function outside of the loop. For (2), @tf.function has experimental_relax_shapes=True option that relaxes argument shapes that can avoid unnecessary retracing. For (3), please refer to https://www.tensorflow.org/guide/function#controlling_retracing and https://www.tensorflow.org/api_docs/python/tf/function for  more details.\n",
            "processing fold # 3\n",
            "WARNING:tensorflow:6 out of the last 11 calls to <function Model.make_test_function.<locals>.test_function at 0x7ff3a25b30e0> triggered tf.function retracing. Tracing is expensive and the excessive number of tracings could be due to (1) creating @tf.function repeatedly in a loop, (2) passing tensors with different shapes, (3) passing Python objects instead of tensors. For (1), please define your @tf.function outside of the loop. For (2), @tf.function has experimental_relax_shapes=True option that relaxes argument shapes that can avoid unnecessary retracing. For (3), please refer to https://www.tensorflow.org/guide/function#controlling_retracing and https://www.tensorflow.org/api_docs/python/tf/function for  more details.\n"
          ],
          "name": "stdout"
        }
      ]
    },
    {
      "cell_type": "code",
      "metadata": {
        "id": "mm6CUpaDESf2"
      },
      "source": [
        "average_mae_history_regul = [np.mean([x[i] for x in all_mae_histories_regul]) for i in range(num_epochs)]"
      ],
      "execution_count": 52,
      "outputs": []
    },
    {
      "cell_type": "code",
      "metadata": {
        "colab": {
          "base_uri": "https://localhost:8080/",
          "height": 279
        },
        "id": "uPP3MYuTFA5q",
        "outputId": "93797485-8358-4abd-b984-e67d4cdaf8b7"
      },
      "source": [
        "import matplotlib.pyplot as plt\n",
        "plt.plot(range(1, len(average_mae_history_regul) + 1), average_mae_history_regul)\n",
        "plt.xlabel('Epochs')\n",
        "plt.ylabel('Validation MAE')\n",
        "plt.show()"
      ],
      "execution_count": 61,
      "outputs": [
        {
          "output_type": "display_data",
          "data": {
            "image/png": "[encoded data removed]",
            "text/plain": [
              "<Figure size 432x288 with 1 Axes>"
            ]
          },
          "metadata": {
            "tags": [],
            "needs_background": "light"
          }
        }
      ]
    },
    {
      "cell_type": "code",
      "metadata": {
        "id": "w8zYs27BFJWj"
      },
      "source": [
        "# dropout model\n",
        "from tensorflow.keras import regularizers\n",
        "def build_model_drop(act):\n",
        "    model = models.Sequential()\n",
        "    model.add(layers.Dense(10, activation= act,input_shape=(x_train.shape[1],)))\n",
        "    model.add(layers.Dropout(0.2))\n",
        "    model.add(layers.Dense(8, activation= act))\n",
        "    model.add(layers.Dropout(0.2))\n",
        "    model.add(layers.Dense(6, activation= act))\n",
        "    model.add(layers.Dropout(0.2))\n",
        "    model.add(layers.Dense(1))\n",
        "    model.compile(optimizer='rmsprop', loss='mse', metrics=['mae'])\n",
        "    return model"
      ],
      "execution_count": 54,
      "outputs": []
    },
    {
      "cell_type": "code",
      "metadata": {
        "colab": {
          "base_uri": "https://localhost:8080/"
        },
        "id": "NHwlX2m4Fdwq",
        "outputId": "b22a50b9-b729-47fc-dc08-639a3b168ce3"
      },
      "source": [
        "build_model_drop('relu').summary()"
      ],
      "execution_count": 55,
      "outputs": [
        {
          "output_type": "stream",
          "text": [
            "Model: \"sequential_18\"\n",
            "_________________________________________________________________\n",
            "Layer (type)                 Output Shape              Param #   \n",
            "=================================================================\n",
            "dense_68 (Dense)             (None, 10)                140       \n",
            "_________________________________________________________________\n",
            "dropout (Dropout)            (None, 10)                0         \n",
            "_________________________________________________________________\n",
            "dense_69 (Dense)             (None, 8)                 88        \n",
            "_________________________________________________________________\n",
            "dropout_1 (Dropout)          (None, 8)                 0         \n",
            "_________________________________________________________________\n",
            "dense_70 (Dense)             (None, 6)                 54        \n",
            "_________________________________________________________________\n",
            "dropout_2 (Dropout)          (None, 6)                 0         \n",
            "_________________________________________________________________\n",
            "dense_71 (Dense)             (None, 1)                 7         \n",
            "=================================================================\n",
            "Total params: 289\n",
            "Trainable params: 289\n",
            "Non-trainable params: 0\n",
            "_________________________________________________________________\n"
          ],
          "name": "stdout"
        }
      ]
    },
    {
      "cell_type": "markdown",
      "metadata": {
        "id": "3MgZ8_1hGGdF"
      },
      "source": [
        "# K fold function with **dropout**"
      ]
    },
    {
      "cell_type": "code",
      "metadata": {
        "id": "qQt2ZNQxGIXt"
      },
      "source": [
        "k = 4\n",
        "num_val_samples = len(x_train) // k\n",
        "num_epochs = 100\n",
        "all_scores_drop = []"
      ],
      "execution_count": 56,
      "outputs": []
    },
    {
      "cell_type": "code",
      "metadata": {
        "colab": {
          "base_uri": "https://localhost:8080/"
        },
        "id": "cr_JghzQGiHG",
        "outputId": "9b355274-760b-4a41-8536-8c932d73dc7d"
      },
      "source": [
        "all_mae_histories_drop = []\n",
        "for i in range(k):\n",
        "    print('processing fold #', i)\n",
        "    val_data = x_train[i * num_val_samples: (i + 1) * num_val_samples]\n",
        "    val_targets = y_train[i * num_val_samples: (i + 1) * num_val_samples]\n",
        "    partial_train_data = np.concatenate([x_train[:i * num_val_samples],\n",
        "        x_train[(i + 1) * num_val_samples:]],axis=0)\n",
        "    partial_train_targets = np.concatenate(\n",
        "        [y_train[:i * num_val_samples],\n",
        "        y_train[(i + 1) * num_val_samples:]],\n",
        "        axis=0)\n",
        "    model = build_model('relu')\n",
        "    history_drop = model.fit(partial_train_data, partial_train_targets,\n",
        "        epochs=num_epochs, batch_size=1, verbose=1)\n",
        "    val_mse, val_mae = model.evaluate(val_data, val_targets, verbose=1)\n",
        "    all_scores_drop.append(val_mae)\n",
        "    mae_history_drop = history_drop.history['mae']\n",
        "    all_mae_histories_drop.append(mae_history_drop)"
      ],
      "execution_count": 57,
      "outputs": [
        {
          "output_type": "stream",
          "text": [
            "processing fold # 0\n",
            "Epoch 1/100\n",
            "108/108 [==============================] - 1s 1ms/step - loss: 0.4722 - mae: 0.5384\n",
            "Epoch 2/100\n",
            "108/108 [==============================] - 0s 1ms/step - loss: 0.1885 - mae: 0.2820\n",
            "Epoch 3/100\n",
            "108/108 [==============================] - 0s 1ms/step - loss: 0.0952 - mae: 0.2091\n",
            "Epoch 4/100\n",
            "108/108 [==============================] - 0s 1ms/step - loss: 0.0796 - mae: 0.1763\n",
            "Epoch 5/100\n",
            "108/108 [==============================] - 0s 1ms/step - loss: 0.1027 - mae: 0.2291\n",
            "Epoch 6/100\n",
            "108/108 [==============================] - 0s 1ms/step - loss: 0.0808 - mae: 0.2087\n",
            "Epoch 7/100\n",
            "108/108 [==============================] - 0s 1ms/step - loss: 0.0768 - mae: 0.1940\n",
            "Epoch 8/100\n",
            "108/108 [==============================] - 0s 1ms/step - loss: 0.0706 - mae: 0.1759\n",
            "Epoch 9/100\n",
            "108/108 [==============================] - 0s 1ms/step - loss: 0.0584 - mae: 0.1793\n",
            "Epoch 10/100\n",
            "108/108 [==============================] - 0s 1ms/step - loss: 0.0714 - mae: 0.1800\n",
            "Epoch 11/100\n",
            "108/108 [==============================] - 0s 1ms/step - loss: 0.0654 - mae: 0.1823\n",
            "Epoch 12/100\n",
            "108/108 [==============================] - 0s 1ms/step - loss: 0.0664 - mae: 0.1700\n",
            "Epoch 13/100\n",
            "108/108 [==============================] - 0s 1ms/step - loss: 0.0787 - mae: 0.1846\n",
            "Epoch 14/100\n",
            "108/108 [==============================] - 0s 1ms/step - loss: 0.0578 - mae: 0.1564\n",
            "Epoch 15/100\n",
            "108/108 [==============================] - 0s 1ms/step - loss: 0.0333 - mae: 0.1083\n",
            "Epoch 16/100\n",
            "108/108 [==============================] - 0s 1ms/step - loss: 0.0326 - mae: 0.1426\n",
            "Epoch 17/100\n",
            "108/108 [==============================] - 0s 2ms/step - loss: 0.0435 - mae: 0.1426\n",
            "Epoch 18/100\n",
            "108/108 [==============================] - 0s 1ms/step - loss: 0.0271 - mae: 0.1190\n",
            "Epoch 19/100\n",
            "108/108 [==============================] - 0s 1ms/step - loss: 0.0278 - mae: 0.1180\n",
            "Epoch 20/100\n",
            "108/108 [==============================] - 0s 1ms/step - loss: 0.0319 - mae: 0.1237\n",
            "Epoch 21/100\n",
            "108/108 [==============================] - 0s 1ms/step - loss: 0.0278 - mae: 0.1198\n",
            "Epoch 22/100\n",
            "108/108 [==============================] - 0s 1ms/step - loss: 0.0495 - mae: 0.1329\n",
            "Epoch 23/100\n",
            "108/108 [==============================] - 0s 1ms/step - loss: 0.0363 - mae: 0.1299\n",
            "Epoch 24/100\n",
            "108/108 [==============================] - 0s 1ms/step - loss: 0.0423 - mae: 0.1270\n",
            "Epoch 25/100\n",
            "108/108 [==============================] - 0s 2ms/step - loss: 0.0244 - mae: 0.1018\n",
            "Epoch 26/100\n",
            "108/108 [==============================] - 0s 1ms/step - loss: 0.0378 - mae: 0.1262\n",
            "Epoch 27/100\n",
            "108/108 [==============================] - 0s 2ms/step - loss: 0.0235 - mae: 0.1038\n",
            "Epoch 28/100\n",
            "108/108 [==============================] - 0s 2ms/step - loss: 0.0287 - mae: 0.1195\n",
            "Epoch 29/100\n",
            "108/108 [==============================] - 0s 1ms/step - loss: 0.0414 - mae: 0.1198\n",
            "Epoch 30/100\n",
            "108/108 [==============================] - 0s 1ms/step - loss: 0.0205 - mae: 0.0928\n",
            "Epoch 31/100\n",
            "108/108 [==============================] - 0s 1ms/step - loss: 0.0204 - mae: 0.0971\n",
            "Epoch 32/100\n",
            "108/108 [==============================] - 0s 1ms/step - loss: 0.0218 - mae: 0.1078\n",
            "Epoch 33/100\n",
            "108/108 [==============================] - 0s 1ms/step - loss: 0.0680 - mae: 0.1470\n",
            "Epoch 34/100\n",
            "108/108 [==============================] - 0s 1ms/step - loss: 0.0239 - mae: 0.1042\n",
            "Epoch 35/100\n",
            "108/108 [==============================] - 0s 1ms/step - loss: 0.0287 - mae: 0.1127\n",
            "Epoch 36/100\n",
            "108/108 [==============================] - 0s 1ms/step - loss: 0.0245 - mae: 0.1110\n",
            "Epoch 37/100\n",
            "108/108 [==============================] - 0s 1ms/step - loss: 0.0462 - mae: 0.1301\n",
            "Epoch 38/100\n",
            "108/108 [==============================] - 0s 1ms/step - loss: 0.0309 - mae: 0.1147\n",
            "Epoch 39/100\n",
            "108/108 [==============================] - 0s 1ms/step - loss: 0.0193 - mae: 0.0991\n",
            "Epoch 40/100\n",
            "108/108 [==============================] - 0s 1ms/step - loss: 0.0251 - mae: 0.1116\n",
            "Epoch 41/100\n",
            "108/108 [==============================] - 0s 1ms/step - loss: 0.0331 - mae: 0.1225\n",
            "Epoch 42/100\n",
            "108/108 [==============================] - 0s 1ms/step - loss: 0.0326 - mae: 0.1109\n",
            "Epoch 43/100\n",
            "108/108 [==============================] - 0s 1ms/step - loss: 0.0192 - mae: 0.0927\n",
            "Epoch 44/100\n",
            "108/108 [==============================] - 0s 1ms/step - loss: 0.0179 - mae: 0.0925\n",
            "Epoch 45/100\n",
            "108/108 [==============================] - 0s 1ms/step - loss: 0.0225 - mae: 0.1092\n",
            "Epoch 46/100\n",
            "108/108 [==============================] - 0s 1ms/step - loss: 0.0261 - mae: 0.1072\n",
            "Epoch 47/100\n",
            "108/108 [==============================] - 0s 1ms/step - loss: 0.0310 - mae: 0.1203\n",
            "Epoch 48/100\n",
            "108/108 [==============================] - 0s 1ms/step - loss: 0.0178 - mae: 0.0864\n",
            "Epoch 49/100\n",
            "108/108 [==============================] - 0s 1ms/step - loss: 0.0240 - mae: 0.0997\n",
            "Epoch 50/100\n",
            "108/108 [==============================] - 0s 1ms/step - loss: 0.0226 - mae: 0.1091\n",
            "Epoch 51/100\n",
            "108/108 [==============================] - 0s 1ms/step - loss: 0.0195 - mae: 0.0961\n",
            "Epoch 52/100\n",
            "108/108 [==============================] - 0s 1ms/step - loss: 0.0209 - mae: 0.0920\n",
            "Epoch 53/100\n",
            "108/108 [==============================] - 0s 1ms/step - loss: 0.0176 - mae: 0.0943\n",
            "Epoch 54/100\n",
            "108/108 [==============================] - 0s 1ms/step - loss: 0.0248 - mae: 0.1023\n",
            "Epoch 55/100\n",
            "108/108 [==============================] - 0s 1ms/step - loss: 0.0171 - mae: 0.0903\n",
            "Epoch 56/100\n",
            "108/108 [==============================] - 0s 1ms/step - loss: 0.0193 - mae: 0.0977\n",
            "Epoch 57/100\n",
            "108/108 [==============================] - 0s 1ms/step - loss: 0.0328 - mae: 0.1056\n",
            "Epoch 58/100\n",
            "108/108 [==============================] - 0s 2ms/step - loss: 0.0171 - mae: 0.0878\n",
            "Epoch 59/100\n",
            "108/108 [==============================] - 0s 1ms/step - loss: 0.0591 - mae: 0.1292\n",
            "Epoch 60/100\n",
            "108/108 [==============================] - 0s 1ms/step - loss: 0.0269 - mae: 0.1041\n",
            "Epoch 61/100\n",
            "108/108 [==============================] - 0s 1ms/step - loss: 0.0453 - mae: 0.1213\n",
            "Epoch 62/100\n",
            "108/108 [==============================] - 0s 1ms/step - loss: 0.0218 - mae: 0.0970\n",
            "Epoch 63/100\n",
            "108/108 [==============================] - 0s 1ms/step - loss: 0.0340 - mae: 0.1262\n",
            "Epoch 64/100\n",
            "108/108 [==============================] - 0s 1ms/step - loss: 0.0564 - mae: 0.1313\n",
            "Epoch 65/100\n",
            "108/108 [==============================] - 0s 1ms/step - loss: 0.0284 - mae: 0.1080\n",
            "Epoch 66/100\n",
            "108/108 [==============================] - 0s 1ms/step - loss: 0.0305 - mae: 0.1122\n",
            "Epoch 67/100\n",
            "108/108 [==============================] - 0s 1ms/step - loss: 0.0186 - mae: 0.0880\n",
            "Epoch 68/100\n",
            "108/108 [==============================] - 0s 1ms/step - loss: 0.0243 - mae: 0.1004\n",
            "Epoch 69/100\n",
            "108/108 [==============================] - 0s 1ms/step - loss: 0.0247 - mae: 0.1095\n",
            "Epoch 70/100\n",
            "108/108 [==============================] - 0s 1ms/step - loss: 0.0190 - mae: 0.0946\n",
            "Epoch 71/100\n",
            "108/108 [==============================] - 0s 1ms/step - loss: 0.0174 - mae: 0.0948\n",
            "Epoch 72/100\n",
            "108/108 [==============================] - 0s 1ms/step - loss: 0.0159 - mae: 0.0789\n",
            "Epoch 73/100\n",
            "108/108 [==============================] - 0s 1ms/step - loss: 0.0221 - mae: 0.1057\n",
            "Epoch 74/100\n",
            "108/108 [==============================] - 0s 1ms/step - loss: 0.0185 - mae: 0.0995\n",
            "Epoch 75/100\n",
            "108/108 [==============================] - 0s 1ms/step - loss: 0.0325 - mae: 0.1100\n",
            "Epoch 76/100\n",
            "108/108 [==============================] - 0s 1ms/step - loss: 0.0158 - mae: 0.0838\n",
            "Epoch 77/100\n",
            "108/108 [==============================] - 0s 1ms/step - loss: 0.0179 - mae: 0.0934\n",
            "Epoch 78/100\n",
            "108/108 [==============================] - 0s 1ms/step - loss: 0.0184 - mae: 0.1011\n",
            "Epoch 79/100\n",
            "108/108 [==============================] - 0s 1ms/step - loss: 0.0204 - mae: 0.1031\n",
            "Epoch 80/100\n",
            "108/108 [==============================] - 0s 1ms/step - loss: 0.0208 - mae: 0.0995\n",
            "Epoch 81/100\n",
            "108/108 [==============================] - 0s 1ms/step - loss: 0.0178 - mae: 0.0874\n",
            "Epoch 82/100\n",
            "108/108 [==============================] - 0s 1ms/step - loss: 0.0159 - mae: 0.0869\n",
            "Epoch 83/100\n",
            "108/108 [==============================] - 0s 1ms/step - loss: 0.0156 - mae: 0.0726\n",
            "Epoch 84/100\n",
            "108/108 [==============================] - 0s 1ms/step - loss: 0.0191 - mae: 0.0885\n",
            "Epoch 85/100\n",
            "108/108 [==============================] - 0s 1ms/step - loss: 0.0148 - mae: 0.0829\n",
            "Epoch 86/100\n",
            "108/108 [==============================] - 0s 1ms/step - loss: 0.0136 - mae: 0.0811\n",
            "Epoch 87/100\n",
            "108/108 [==============================] - 0s 2ms/step - loss: 0.0244 - mae: 0.1004\n",
            "Epoch 88/100\n",
            "108/108 [==============================] - 0s 1ms/step - loss: 0.0197 - mae: 0.0912\n",
            "Epoch 89/100\n",
            "108/108 [==============================] - 0s 1ms/step - loss: 0.0183 - mae: 0.0957\n",
            "Epoch 90/100\n",
            "108/108 [==============================] - 0s 1ms/step - loss: 0.0184 - mae: 0.1007\n",
            "Epoch 91/100\n",
            "108/108 [==============================] - 0s 1ms/step - loss: 0.0138 - mae: 0.0764\n",
            "Epoch 92/100\n",
            "108/108 [==============================] - 0s 1ms/step - loss: 0.0183 - mae: 0.0870\n",
            "Epoch 93/100\n",
            "108/108 [==============================] - 0s 1ms/step - loss: 0.0194 - mae: 0.0830\n",
            "Epoch 94/100\n",
            "108/108 [==============================] - 0s 1ms/step - loss: 0.0152 - mae: 0.0784\n",
            "Epoch 95/100\n",
            "108/108 [==============================] - 0s 1ms/step - loss: 0.0188 - mae: 0.0922\n",
            "Epoch 96/100\n",
            "108/108 [==============================] - 0s 1ms/step - loss: 0.0252 - mae: 0.0944\n",
            "Epoch 97/100\n",
            "108/108 [==============================] - 0s 1ms/step - loss: 0.0298 - mae: 0.1077\n",
            "Epoch 98/100\n",
            "108/108 [==============================] - 0s 1ms/step - loss: 0.0285 - mae: 0.1032\n",
            "Epoch 99/100\n",
            "108/108 [==============================] - 0s 1ms/step - loss: 0.0204 - mae: 0.0930\n",
            "Epoch 100/100\n",
            "108/108 [==============================] - 0s 1ms/step - loss: 0.0255 - mae: 0.0989\n",
            "WARNING:tensorflow:6 out of the last 11 calls to <function Model.make_test_function.<locals>.test_function at 0x7ff39c758950> triggered tf.function retracing. Tracing is expensive and the excessive number of tracings could be due to (1) creating @tf.function repeatedly in a loop, (2) passing tensors with different shapes, (3) passing Python objects instead of tensors. For (1), please define your @tf.function outside of the loop. For (2), @tf.function has experimental_relax_shapes=True option that relaxes argument shapes that can avoid unnecessary retracing. For (3), please refer to https://www.tensorflow.org/guide/function#controlling_retracing and https://www.tensorflow.org/api_docs/python/tf/function for  more details.\n",
            "2/2 [==============================] - 0s 8ms/step - loss: 0.0579 - mae: 0.1974\n",
            "processing fold # 1\n",
            "Epoch 1/100\n",
            "108/108 [==============================] - 1s 1ms/step - loss: 0.4223 - mae: 0.4703\n",
            "Epoch 2/100\n",
            "108/108 [==============================] - 0s 1ms/step - loss: 0.1886 - mae: 0.3118\n",
            "Epoch 3/100\n",
            "108/108 [==============================] - 0s 1ms/step - loss: 0.1347 - mae: 0.2413\n",
            "Epoch 4/100\n",
            "108/108 [==============================] - 0s 1ms/step - loss: 0.1930 - mae: 0.2894\n",
            "Epoch 5/100\n",
            "108/108 [==============================] - 0s 1ms/step - loss: 0.1175 - mae: 0.2445\n",
            "Epoch 6/100\n",
            "108/108 [==============================] - 0s 1ms/step - loss: 0.0998 - mae: 0.2098\n",
            "Epoch 7/100\n",
            "108/108 [==============================] - 0s 1ms/step - loss: 0.0499 - mae: 0.1538\n",
            "Epoch 8/100\n",
            "108/108 [==============================] - 0s 1ms/step - loss: 0.0965 - mae: 0.2146\n",
            "Epoch 9/100\n",
            "108/108 [==============================] - 0s 1ms/step - loss: 0.0863 - mae: 0.1974\n",
            "Epoch 10/100\n",
            "108/108 [==============================] - 0s 1ms/step - loss: 0.0650 - mae: 0.1589\n",
            "Epoch 11/100\n",
            "108/108 [==============================] - 0s 1ms/step - loss: 0.0691 - mae: 0.1726\n",
            "Epoch 12/100\n",
            "108/108 [==============================] - 0s 1ms/step - loss: 0.0752 - mae: 0.1709\n",
            "Epoch 13/100\n",
            "108/108 [==============================] - 0s 1ms/step - loss: 0.0576 - mae: 0.1671\n",
            "Epoch 14/100\n",
            "108/108 [==============================] - 0s 1ms/step - loss: 0.0786 - mae: 0.1792\n",
            "Epoch 15/100\n",
            "108/108 [==============================] - 0s 1ms/step - loss: 0.0566 - mae: 0.1720\n",
            "Epoch 16/100\n",
            "108/108 [==============================] - 0s 1ms/step - loss: 0.0253 - mae: 0.1224\n",
            "Epoch 17/100\n",
            "108/108 [==============================] - 0s 1ms/step - loss: 0.0428 - mae: 0.1349\n",
            "Epoch 18/100\n",
            "108/108 [==============================] - 0s 1ms/step - loss: 0.0292 - mae: 0.1174\n",
            "Epoch 19/100\n",
            "108/108 [==============================] - 0s 1ms/step - loss: 0.0388 - mae: 0.1278\n",
            "Epoch 20/100\n",
            "108/108 [==============================] - 0s 1ms/step - loss: 0.0241 - mae: 0.1116\n",
            "Epoch 21/100\n",
            "108/108 [==============================] - 0s 1ms/step - loss: 0.0270 - mae: 0.1226\n",
            "Epoch 22/100\n",
            "108/108 [==============================] - 0s 1ms/step - loss: 0.0514 - mae: 0.1423\n",
            "Epoch 23/100\n",
            "108/108 [==============================] - 0s 1ms/step - loss: 0.0538 - mae: 0.1619\n",
            "Epoch 24/100\n",
            "108/108 [==============================] - 0s 1ms/step - loss: 0.0531 - mae: 0.1631\n",
            "Epoch 25/100\n",
            "108/108 [==============================] - 0s 1ms/step - loss: 0.0264 - mae: 0.1104\n",
            "Epoch 26/100\n",
            "108/108 [==============================] - 0s 1ms/step - loss: 0.0238 - mae: 0.1044\n",
            "Epoch 27/100\n",
            "108/108 [==============================] - 0s 1ms/step - loss: 0.0330 - mae: 0.1295\n",
            "Epoch 28/100\n",
            "108/108 [==============================] - 0s 1ms/step - loss: 0.0334 - mae: 0.1188\n",
            "Epoch 29/100\n",
            "108/108 [==============================] - 0s 1ms/step - loss: 0.0231 - mae: 0.1040\n",
            "Epoch 30/100\n",
            "108/108 [==============================] - 0s 2ms/step - loss: 0.0212 - mae: 0.1064\n",
            "Epoch 31/100\n",
            "108/108 [==============================] - 0s 1ms/step - loss: 0.0309 - mae: 0.1213\n",
            "Epoch 32/100\n",
            "108/108 [==============================] - 0s 1ms/step - loss: 0.0661 - mae: 0.1315\n",
            "Epoch 33/100\n",
            "108/108 [==============================] - 0s 1ms/step - loss: 0.0279 - mae: 0.1178\n",
            "Epoch 34/100\n",
            "108/108 [==============================] - 0s 1ms/step - loss: 0.0315 - mae: 0.1105\n",
            "Epoch 35/100\n",
            "108/108 [==============================] - 0s 1ms/step - loss: 0.0292 - mae: 0.1164\n",
            "Epoch 36/100\n",
            "108/108 [==============================] - 0s 1ms/step - loss: 0.0165 - mae: 0.0914\n",
            "Epoch 37/100\n",
            "108/108 [==============================] - 0s 1ms/step - loss: 0.0317 - mae: 0.1108\n",
            "Epoch 38/100\n",
            "108/108 [==============================] - 0s 1ms/step - loss: 0.0219 - mae: 0.1024\n",
            "Epoch 39/100\n",
            "108/108 [==============================] - 0s 1ms/step - loss: 0.0273 - mae: 0.1074\n",
            "Epoch 40/100\n",
            "108/108 [==============================] - 0s 1ms/step - loss: 0.0279 - mae: 0.1166\n",
            "Epoch 41/100\n",
            "108/108 [==============================] - 0s 1ms/step - loss: 0.0171 - mae: 0.0905\n",
            "Epoch 42/100\n",
            "108/108 [==============================] - 0s 1ms/step - loss: 0.0202 - mae: 0.1038\n",
            "Epoch 43/100\n",
            "108/108 [==============================] - 0s 1ms/step - loss: 0.0155 - mae: 0.0888\n",
            "Epoch 44/100\n",
            "108/108 [==============================] - 0s 1ms/step - loss: 0.0534 - mae: 0.1268\n",
            "Epoch 45/100\n",
            "108/108 [==============================] - 0s 1ms/step - loss: 0.0314 - mae: 0.1154\n",
            "Epoch 46/100\n",
            "108/108 [==============================] - 0s 1ms/step - loss: 0.0198 - mae: 0.1040\n",
            "Epoch 47/100\n",
            "108/108 [==============================] - 0s 1ms/step - loss: 0.0308 - mae: 0.1119\n",
            "Epoch 48/100\n",
            "108/108 [==============================] - 0s 1ms/step - loss: 0.0295 - mae: 0.1160\n",
            "Epoch 49/100\n",
            "108/108 [==============================] - 0s 1ms/step - loss: 0.0180 - mae: 0.0959\n",
            "Epoch 50/100\n",
            "108/108 [==============================] - 0s 1ms/step - loss: 0.0183 - mae: 0.0945\n",
            "Epoch 51/100\n",
            "108/108 [==============================] - 0s 1ms/step - loss: 0.0496 - mae: 0.1327\n",
            "Epoch 52/100\n",
            "108/108 [==============================] - 0s 1ms/step - loss: 0.0278 - mae: 0.1017\n",
            "Epoch 53/100\n",
            "108/108 [==============================] - 0s 1ms/step - loss: 0.0279 - mae: 0.1054\n",
            "Epoch 54/100\n",
            "108/108 [==============================] - 0s 1ms/step - loss: 0.0263 - mae: 0.1020\n",
            "Epoch 55/100\n",
            "108/108 [==============================] - 0s 1ms/step - loss: 0.0208 - mae: 0.0938\n",
            "Epoch 56/100\n",
            "108/108 [==============================] - 0s 2ms/step - loss: 0.0224 - mae: 0.0994\n",
            "Epoch 57/100\n",
            "108/108 [==============================] - 0s 1ms/step - loss: 0.0150 - mae: 0.0815\n",
            "Epoch 58/100\n",
            "108/108 [==============================] - 0s 1ms/step - loss: 0.0182 - mae: 0.0838\n",
            "Epoch 59/100\n",
            "108/108 [==============================] - 0s 1ms/step - loss: 0.0159 - mae: 0.0957\n",
            "Epoch 60/100\n",
            "108/108 [==============================] - 0s 1ms/step - loss: 0.0153 - mae: 0.0796\n",
            "Epoch 61/100\n",
            "108/108 [==============================] - 0s 1ms/step - loss: 0.0315 - mae: 0.1093\n",
            "Epoch 62/100\n",
            "108/108 [==============================] - 0s 1ms/step - loss: 0.0214 - mae: 0.1010\n",
            "Epoch 63/100\n",
            "108/108 [==============================] - 0s 1ms/step - loss: 0.0184 - mae: 0.0961\n",
            "Epoch 64/100\n",
            "108/108 [==============================] - 0s 1ms/step - loss: 0.0374 - mae: 0.1065\n",
            "Epoch 65/100\n",
            "108/108 [==============================] - 0s 1ms/step - loss: 0.0173 - mae: 0.0811\n",
            "Epoch 66/100\n",
            "108/108 [==============================] - 0s 1ms/step - loss: 0.0183 - mae: 0.0748\n",
            "Epoch 67/100\n",
            "108/108 [==============================] - 0s 1ms/step - loss: 0.0170 - mae: 0.0834\n",
            "Epoch 68/100\n",
            "108/108 [==============================] - 0s 1ms/step - loss: 0.0125 - mae: 0.0802\n",
            "Epoch 69/100\n",
            "108/108 [==============================] - 0s 1ms/step - loss: 0.0385 - mae: 0.1233\n",
            "Epoch 70/100\n",
            "108/108 [==============================] - 0s 1ms/step - loss: 0.0277 - mae: 0.1113\n",
            "Epoch 71/100\n",
            "108/108 [==============================] - 0s 1ms/step - loss: 0.0186 - mae: 0.0912\n",
            "Epoch 72/100\n",
            "108/108 [==============================] - 0s 1ms/step - loss: 0.0181 - mae: 0.0845\n",
            "Epoch 73/100\n",
            "108/108 [==============================] - 0s 1ms/step - loss: 0.0221 - mae: 0.0863\n",
            "Epoch 74/100\n",
            "108/108 [==============================] - 0s 1ms/step - loss: 0.0115 - mae: 0.0757\n",
            "Epoch 75/100\n",
            "108/108 [==============================] - 0s 1ms/step - loss: 0.0143 - mae: 0.0868\n",
            "Epoch 76/100\n",
            "108/108 [==============================] - 0s 1ms/step - loss: 0.0284 - mae: 0.0991\n",
            "Epoch 77/100\n",
            "108/108 [==============================] - 0s 1ms/step - loss: 0.0190 - mae: 0.1007\n",
            "Epoch 78/100\n",
            "108/108 [==============================] - 0s 1ms/step - loss: 0.0203 - mae: 0.0869\n",
            "Epoch 79/100\n",
            "108/108 [==============================] - 0s 1ms/step - loss: 0.0171 - mae: 0.0921\n",
            "Epoch 80/100\n",
            "108/108 [==============================] - 0s 1ms/step - loss: 0.0125 - mae: 0.0732\n",
            "Epoch 81/100\n",
            "108/108 [==============================] - 0s 1ms/step - loss: 0.0226 - mae: 0.1034\n",
            "Epoch 82/100\n",
            "108/108 [==============================] - 0s 1ms/step - loss: 0.0176 - mae: 0.0875\n",
            "Epoch 83/100\n",
            "108/108 [==============================] - 0s 1ms/step - loss: 0.0216 - mae: 0.0842\n",
            "Epoch 84/100\n",
            "108/108 [==============================] - 0s 1ms/step - loss: 0.0145 - mae: 0.0812\n",
            "Epoch 85/100\n",
            "108/108 [==============================] - 0s 1ms/step - loss: 0.0126 - mae: 0.0766\n",
            "Epoch 86/100\n",
            "108/108 [==============================] - 0s 1ms/step - loss: 0.0216 - mae: 0.0957\n",
            "Epoch 87/100\n",
            "108/108 [==============================] - 0s 1ms/step - loss: 0.0146 - mae: 0.0793\n",
            "Epoch 88/100\n",
            "108/108 [==============================] - 0s 1ms/step - loss: 0.0164 - mae: 0.0895\n",
            "Epoch 89/100\n",
            "108/108 [==============================] - 0s 1ms/step - loss: 0.0229 - mae: 0.0842\n",
            "Epoch 90/100\n",
            "108/108 [==============================] - 0s 1ms/step - loss: 0.0231 - mae: 0.0949\n",
            "Epoch 91/100\n",
            "108/108 [==============================] - 0s 1ms/step - loss: 0.0177 - mae: 0.0836\n",
            "Epoch 92/100\n",
            "108/108 [==============================] - 0s 1ms/step - loss: 0.0135 - mae: 0.0758\n",
            "Epoch 93/100\n",
            "108/108 [==============================] - 0s 1ms/step - loss: 0.0215 - mae: 0.0838\n",
            "Epoch 94/100\n",
            "108/108 [==============================] - 0s 1ms/step - loss: 0.0201 - mae: 0.0756\n",
            "Epoch 95/100\n",
            "108/108 [==============================] - 0s 1ms/step - loss: 0.0141 - mae: 0.0736\n",
            "Epoch 96/100\n",
            "108/108 [==============================] - 0s 1ms/step - loss: 0.0121 - mae: 0.0753\n",
            "Epoch 97/100\n",
            "108/108 [==============================] - 0s 1ms/step - loss: 0.0117 - mae: 0.0736\n",
            "Epoch 98/100\n",
            "108/108 [==============================] - 0s 1ms/step - loss: 0.0136 - mae: 0.0827\n",
            "Epoch 99/100\n",
            "108/108 [==============================] - 0s 1ms/step - loss: 0.0140 - mae: 0.0869\n",
            "Epoch 100/100\n",
            "108/108 [==============================] - 0s 1ms/step - loss: 0.0129 - mae: 0.0707\n",
            "WARNING:tensorflow:6 out of the last 11 calls to <function Model.make_test_function.<locals>.test_function at 0x7ff39d8fc950> triggered tf.function retracing. Tracing is expensive and the excessive number of tracings could be due to (1) creating @tf.function repeatedly in a loop, (2) passing tensors with different shapes, (3) passing Python objects instead of tensors. For (1), please define your @tf.function outside of the loop. For (2), @tf.function has experimental_relax_shapes=True option that relaxes argument shapes that can avoid unnecessary retracing. For (3), please refer to https://www.tensorflow.org/guide/function#controlling_retracing and https://www.tensorflow.org/api_docs/python/tf/function for  more details.\n",
            "2/2 [==============================] - 0s 14ms/step - loss: 0.1014 - mae: 0.2243\n",
            "processing fold # 2\n",
            "Epoch 1/100\n",
            "108/108 [==============================] - 1s 1ms/step - loss: 0.3788 - mae: 0.4319\n",
            "Epoch 2/100\n",
            "108/108 [==============================] - 0s 1ms/step - loss: 0.1901 - mae: 0.2997\n",
            "Epoch 3/100\n",
            "108/108 [==============================] - 0s 1ms/step - loss: 0.1136 - mae: 0.2350\n",
            "Epoch 4/100\n",
            "108/108 [==============================] - 0s 1ms/step - loss: 0.1032 - mae: 0.2177\n",
            "Epoch 5/100\n",
            "108/108 [==============================] - 0s 1ms/step - loss: 0.0791 - mae: 0.1990\n",
            "Epoch 6/100\n",
            "108/108 [==============================] - 0s 1ms/step - loss: 0.0632 - mae: 0.1923\n",
            "Epoch 7/100\n",
            "108/108 [==============================] - 0s 1ms/step - loss: 0.0629 - mae: 0.1685\n",
            "Epoch 8/100\n",
            "108/108 [==============================] - 0s 1ms/step - loss: 0.0492 - mae: 0.1626\n",
            "Epoch 9/100\n",
            "108/108 [==============================] - 0s 1ms/step - loss: 0.0482 - mae: 0.1628\n",
            "Epoch 10/100\n",
            "108/108 [==============================] - 0s 1ms/step - loss: 0.0305 - mae: 0.1239\n",
            "Epoch 11/100\n",
            "108/108 [==============================] - 0s 1ms/step - loss: 0.0357 - mae: 0.1426\n",
            "Epoch 12/100\n",
            "108/108 [==============================] - 0s 2ms/step - loss: 0.0453 - mae: 0.1490\n",
            "Epoch 13/100\n",
            "108/108 [==============================] - 0s 1ms/step - loss: 0.0316 - mae: 0.1200\n",
            "Epoch 14/100\n",
            "108/108 [==============================] - 0s 1ms/step - loss: 0.0368 - mae: 0.1257\n",
            "Epoch 15/100\n",
            "108/108 [==============================] - 0s 1ms/step - loss: 0.0231 - mae: 0.1093\n",
            "Epoch 16/100\n",
            "108/108 [==============================] - 0s 1ms/step - loss: 0.0207 - mae: 0.1074\n",
            "Epoch 17/100\n",
            "108/108 [==============================] - 0s 1ms/step - loss: 0.0366 - mae: 0.1430\n",
            "Epoch 18/100\n",
            "108/108 [==============================] - 0s 1ms/step - loss: 0.0462 - mae: 0.1396\n",
            "Epoch 19/100\n",
            "108/108 [==============================] - 0s 1ms/step - loss: 0.0262 - mae: 0.1121\n",
            "Epoch 20/100\n",
            "108/108 [==============================] - 0s 1ms/step - loss: 0.0384 - mae: 0.1286\n",
            "Epoch 21/100\n",
            "108/108 [==============================] - 0s 1ms/step - loss: 0.0315 - mae: 0.1194\n",
            "Epoch 22/100\n",
            "108/108 [==============================] - 0s 1ms/step - loss: 0.0280 - mae: 0.1153\n",
            "Epoch 23/100\n",
            "108/108 [==============================] - 0s 1ms/step - loss: 0.0271 - mae: 0.1080\n",
            "Epoch 24/100\n",
            "108/108 [==============================] - 0s 1ms/step - loss: 0.0195 - mae: 0.1050\n",
            "Epoch 25/100\n",
            "108/108 [==============================] - 0s 1ms/step - loss: 0.0282 - mae: 0.1159\n",
            "Epoch 26/100\n",
            "108/108 [==============================] - 0s 1ms/step - loss: 0.0220 - mae: 0.0928\n",
            "Epoch 27/100\n",
            "108/108 [==============================] - 0s 1ms/step - loss: 0.0343 - mae: 0.1149\n",
            "Epoch 28/100\n",
            "108/108 [==============================] - 0s 1ms/step - loss: 0.0212 - mae: 0.1030\n",
            "Epoch 29/100\n",
            "108/108 [==============================] - 0s 2ms/step - loss: 0.0219 - mae: 0.1077\n",
            "Epoch 30/100\n",
            "108/108 [==============================] - 0s 1ms/step - loss: 0.0254 - mae: 0.1076\n",
            "Epoch 31/100\n",
            "108/108 [==============================] - 0s 1ms/step - loss: 0.0219 - mae: 0.0918\n",
            "Epoch 32/100\n",
            "108/108 [==============================] - 0s 1ms/step - loss: 0.0178 - mae: 0.1003\n",
            "Epoch 33/100\n",
            "108/108 [==============================] - 0s 1ms/step - loss: 0.0269 - mae: 0.1213\n",
            "Epoch 34/100\n",
            "108/108 [==============================] - 0s 1ms/step - loss: 0.0261 - mae: 0.1136\n",
            "Epoch 35/100\n",
            "108/108 [==============================] - 0s 1ms/step - loss: 0.0194 - mae: 0.0874\n",
            "Epoch 36/100\n",
            "108/108 [==============================] - 0s 1ms/step - loss: 0.0303 - mae: 0.1126\n",
            "Epoch 37/100\n",
            "108/108 [==============================] - 0s 1ms/step - loss: 0.0407 - mae: 0.1217\n",
            "Epoch 38/100\n",
            "108/108 [==============================] - 0s 1ms/step - loss: 0.0318 - mae: 0.1222\n",
            "Epoch 39/100\n",
            "108/108 [==============================] - 0s 1ms/step - loss: 0.0217 - mae: 0.0976\n",
            "Epoch 40/100\n",
            "108/108 [==============================] - 0s 1ms/step - loss: 0.0170 - mae: 0.1012\n",
            "Epoch 41/100\n",
            "108/108 [==============================] - 0s 1ms/step - loss: 0.0235 - mae: 0.1030\n",
            "Epoch 42/100\n",
            "108/108 [==============================] - 0s 1ms/step - loss: 0.0242 - mae: 0.0990\n",
            "Epoch 43/100\n",
            "108/108 [==============================] - 0s 1ms/step - loss: 0.0163 - mae: 0.0949\n",
            "Epoch 44/100\n",
            "108/108 [==============================] - 0s 1ms/step - loss: 0.0469 - mae: 0.1489\n",
            "Epoch 45/100\n",
            "108/108 [==============================] - 0s 1ms/step - loss: 0.0269 - mae: 0.1129\n",
            "Epoch 46/100\n",
            "108/108 [==============================] - 0s 1ms/step - loss: 0.0177 - mae: 0.0964\n",
            "Epoch 47/100\n",
            "108/108 [==============================] - 0s 1ms/step - loss: 0.0132 - mae: 0.0780\n",
            "Epoch 48/100\n",
            "108/108 [==============================] - 0s 1ms/step - loss: 0.0204 - mae: 0.0924\n",
            "Epoch 49/100\n",
            "108/108 [==============================] - 0s 2ms/step - loss: 0.0220 - mae: 0.0981\n",
            "Epoch 50/100\n",
            "108/108 [==============================] - 0s 1ms/step - loss: 0.0242 - mae: 0.1026\n",
            "Epoch 51/100\n",
            "108/108 [==============================] - 0s 1ms/step - loss: 0.0189 - mae: 0.1010\n",
            "Epoch 52/100\n",
            "108/108 [==============================] - 0s 2ms/step - loss: 0.0164 - mae: 0.0823\n",
            "Epoch 53/100\n",
            "108/108 [==============================] - 0s 1ms/step - loss: 0.0198 - mae: 0.0934\n",
            "Epoch 54/100\n",
            "108/108 [==============================] - 0s 1ms/step - loss: 0.0145 - mae: 0.0859\n",
            "Epoch 55/100\n",
            "108/108 [==============================] - 0s 1ms/step - loss: 0.0247 - mae: 0.1017\n",
            "Epoch 56/100\n",
            "108/108 [==============================] - 0s 1ms/step - loss: 0.0229 - mae: 0.0953\n",
            "Epoch 57/100\n",
            "108/108 [==============================] - 0s 1ms/step - loss: 0.0268 - mae: 0.0970\n",
            "Epoch 58/100\n",
            "108/108 [==============================] - 0s 1ms/step - loss: 0.0197 - mae: 0.0956\n",
            "Epoch 59/100\n",
            "108/108 [==============================] - 0s 1ms/step - loss: 0.0207 - mae: 0.1023\n",
            "Epoch 60/100\n",
            "108/108 [==============================] - 0s 1ms/step - loss: 0.0137 - mae: 0.0767\n",
            "Epoch 61/100\n",
            "108/108 [==============================] - 0s 1ms/step - loss: 0.0209 - mae: 0.1034\n",
            "Epoch 62/100\n",
            "108/108 [==============================] - 0s 1ms/step - loss: 0.0129 - mae: 0.0771\n",
            "Epoch 63/100\n",
            "108/108 [==============================] - 0s 1ms/step - loss: 0.0132 - mae: 0.0874\n",
            "Epoch 64/100\n",
            "108/108 [==============================] - 0s 1ms/step - loss: 0.0185 - mae: 0.0987\n",
            "Epoch 65/100\n",
            "108/108 [==============================] - 0s 1ms/step - loss: 0.0200 - mae: 0.0893\n",
            "Epoch 66/100\n",
            "108/108 [==============================] - 0s 1ms/step - loss: 0.0170 - mae: 0.0809\n",
            "Epoch 67/100\n",
            "108/108 [==============================] - 0s 1ms/step - loss: 0.0196 - mae: 0.0871\n",
            "Epoch 68/100\n",
            "108/108 [==============================] - 0s 1ms/step - loss: 0.0162 - mae: 0.0742\n",
            "Epoch 69/100\n",
            "108/108 [==============================] - 0s 1ms/step - loss: 0.0147 - mae: 0.0763\n",
            "Epoch 70/100\n",
            "108/108 [==============================] - 0s 1ms/step - loss: 0.0193 - mae: 0.0951\n",
            "Epoch 71/100\n",
            "108/108 [==============================] - 0s 1ms/step - loss: 0.0152 - mae: 0.0814\n",
            "Epoch 72/100\n",
            "108/108 [==============================] - 0s 1ms/step - loss: 0.0169 - mae: 0.0845\n",
            "Epoch 73/100\n",
            "108/108 [==============================] - 0s 1ms/step - loss: 0.0243 - mae: 0.1098\n",
            "Epoch 74/100\n",
            "108/108 [==============================] - 0s 1ms/step - loss: 0.0214 - mae: 0.0911\n",
            "Epoch 75/100\n",
            "108/108 [==============================] - 0s 2ms/step - loss: 0.0183 - mae: 0.0867\n",
            "Epoch 76/100\n",
            "108/108 [==============================] - 0s 1ms/step - loss: 0.0301 - mae: 0.1025\n",
            "Epoch 77/100\n",
            "108/108 [==============================] - 0s 2ms/step - loss: 0.0156 - mae: 0.0901\n",
            "Epoch 78/100\n",
            "108/108 [==============================] - 0s 1ms/step - loss: 0.0200 - mae: 0.1034\n",
            "Epoch 79/100\n",
            "108/108 [==============================] - 0s 1ms/step - loss: 0.0172 - mae: 0.0823\n",
            "Epoch 80/100\n",
            "108/108 [==============================] - 0s 1ms/step - loss: 0.0213 - mae: 0.0961\n",
            "Epoch 81/100\n",
            "108/108 [==============================] - 0s 1ms/step - loss: 0.0143 - mae: 0.0844\n",
            "Epoch 82/100\n",
            "108/108 [==============================] - 0s 1ms/step - loss: 0.0200 - mae: 0.1004\n",
            "Epoch 83/100\n",
            "108/108 [==============================] - 0s 1ms/step - loss: 0.0152 - mae: 0.0890\n",
            "Epoch 84/100\n",
            "108/108 [==============================] - 0s 1ms/step - loss: 0.0156 - mae: 0.0813\n",
            "Epoch 85/100\n",
            "108/108 [==============================] - 0s 1ms/step - loss: 0.0089 - mae: 0.0630\n",
            "Epoch 86/100\n",
            "108/108 [==============================] - 0s 1ms/step - loss: 0.0130 - mae: 0.0763\n",
            "Epoch 87/100\n",
            "108/108 [==============================] - 0s 1ms/step - loss: 0.0122 - mae: 0.0692\n",
            "Epoch 88/100\n",
            "108/108 [==============================] - 0s 1ms/step - loss: 0.0161 - mae: 0.0830\n",
            "Epoch 89/100\n",
            "108/108 [==============================] - 0s 1ms/step - loss: 0.0183 - mae: 0.0943\n",
            "Epoch 90/100\n",
            "108/108 [==============================] - 0s 1ms/step - loss: 0.0197 - mae: 0.0904\n",
            "Epoch 91/100\n",
            "108/108 [==============================] - 0s 1ms/step - loss: 0.0299 - mae: 0.1004\n",
            "Epoch 92/100\n",
            "108/108 [==============================] - 0s 1ms/step - loss: 0.0160 - mae: 0.0838\n",
            "Epoch 93/100\n",
            "108/108 [==============================] - 0s 1ms/step - loss: 0.0233 - mae: 0.0980\n",
            "Epoch 94/100\n",
            "108/108 [==============================] - 0s 1ms/step - loss: 0.0140 - mae: 0.0763\n",
            "Epoch 95/100\n",
            "108/108 [==============================] - 0s 1ms/step - loss: 0.0120 - mae: 0.0749\n",
            "Epoch 96/100\n",
            "108/108 [==============================] - 0s 1ms/step - loss: 0.0172 - mae: 0.0911\n",
            "Epoch 97/100\n",
            "108/108 [==============================] - 0s 1ms/step - loss: 0.0236 - mae: 0.1059\n",
            "Epoch 98/100\n",
            "108/108 [==============================] - 0s 1ms/step - loss: 0.0247 - mae: 0.1016\n",
            "Epoch 99/100\n",
            "108/108 [==============================] - 0s 1ms/step - loss: 0.0163 - mae: 0.0879\n",
            "Epoch 100/100\n",
            "108/108 [==============================] - 0s 1ms/step - loss: 0.0152 - mae: 0.0832\n",
            "WARNING:tensorflow:6 out of the last 11 calls to <function Model.make_test_function.<locals>.test_function at 0x7ff39d8fc170> triggered tf.function retracing. Tracing is expensive and the excessive number of tracings could be due to (1) creating @tf.function repeatedly in a loop, (2) passing tensors with different shapes, (3) passing Python objects instead of tensors. For (1), please define your @tf.function outside of the loop. For (2), @tf.function has experimental_relax_shapes=True option that relaxes argument shapes that can avoid unnecessary retracing. For (3), please refer to https://www.tensorflow.org/guide/function#controlling_retracing and https://www.tensorflow.org/api_docs/python/tf/function for  more details.\n",
            "2/2 [==============================] - 0s 6ms/step - loss: 0.1221 - mae: 0.2275\n",
            "processing fold # 3\n",
            "Epoch 1/100\n",
            "108/108 [==============================] - 1s 1ms/step - loss: 0.7458 - mae: 0.5946\n",
            "Epoch 2/100\n",
            "108/108 [==============================] - 0s 1ms/step - loss: 0.1687 - mae: 0.2399\n",
            "Epoch 3/100\n",
            "108/108 [==============================] - 0s 1ms/step - loss: 0.1217 - mae: 0.2292\n",
            "Epoch 4/100\n",
            "108/108 [==============================] - 0s 1ms/step - loss: 0.0541 - mae: 0.1674\n",
            "Epoch 5/100\n",
            "108/108 [==============================] - 0s 1ms/step - loss: 0.0373 - mae: 0.1311\n",
            "Epoch 6/100\n",
            "108/108 [==============================] - 0s 1ms/step - loss: 0.0961 - mae: 0.2020\n",
            "Epoch 7/100\n",
            "108/108 [==============================] - 0s 1ms/step - loss: 0.0946 - mae: 0.1966\n",
            "Epoch 8/100\n",
            "108/108 [==============================] - 0s 1ms/step - loss: 0.0992 - mae: 0.1906\n",
            "Epoch 9/100\n",
            "108/108 [==============================] - 0s 1ms/step - loss: 0.0539 - mae: 0.1435\n",
            "Epoch 10/100\n",
            "108/108 [==============================] - 0s 1ms/step - loss: 0.0415 - mae: 0.1333\n",
            "Epoch 11/100\n",
            "108/108 [==============================] - 0s 1ms/step - loss: 0.0968 - mae: 0.1801\n",
            "Epoch 12/100\n",
            "108/108 [==============================] - 0s 1ms/step - loss: 0.0439 - mae: 0.1383\n",
            "Epoch 13/100\n",
            "108/108 [==============================] - 0s 1ms/step - loss: 0.0828 - mae: 0.1623\n",
            "Epoch 14/100\n",
            "108/108 [==============================] - 0s 1ms/step - loss: 0.0700 - mae: 0.1728\n",
            "Epoch 15/100\n",
            "108/108 [==============================] - 0s 1ms/step - loss: 0.0416 - mae: 0.1300\n",
            "Epoch 16/100\n",
            "108/108 [==============================] - 0s 1ms/step - loss: 0.0363 - mae: 0.1120\n",
            "Epoch 17/100\n",
            "108/108 [==============================] - 0s 1ms/step - loss: 0.0472 - mae: 0.1469\n",
            "Epoch 18/100\n",
            "108/108 [==============================] - 0s 1ms/step - loss: 0.0581 - mae: 0.1312\n",
            "Epoch 19/100\n",
            "108/108 [==============================] - 0s 1ms/step - loss: 0.0224 - mae: 0.1070\n",
            "Epoch 20/100\n",
            "108/108 [==============================] - 0s 1ms/step - loss: 0.0314 - mae: 0.1179\n",
            "Epoch 21/100\n",
            "108/108 [==============================] - 0s 1ms/step - loss: 0.0243 - mae: 0.1130\n",
            "Epoch 22/100\n",
            "108/108 [==============================] - 0s 1ms/step - loss: 0.0248 - mae: 0.1108\n",
            "Epoch 23/100\n",
            "108/108 [==============================] - 0s 1ms/step - loss: 0.0405 - mae: 0.1250\n",
            "Epoch 24/100\n",
            "108/108 [==============================] - 0s 1ms/step - loss: 0.0219 - mae: 0.1012\n",
            "Epoch 25/100\n",
            "108/108 [==============================] - 0s 1ms/step - loss: 0.0202 - mae: 0.0994\n",
            "Epoch 26/100\n",
            "108/108 [==============================] - 0s 1ms/step - loss: 0.0296 - mae: 0.1091\n",
            "Epoch 27/100\n",
            "108/108 [==============================] - 0s 1ms/step - loss: 0.0204 - mae: 0.1020\n",
            "Epoch 28/100\n",
            "108/108 [==============================] - 0s 1ms/step - loss: 0.0258 - mae: 0.1235\n",
            "Epoch 29/100\n",
            "108/108 [==============================] - 0s 1ms/step - loss: 0.0303 - mae: 0.1199\n",
            "Epoch 30/100\n",
            "108/108 [==============================] - 0s 1ms/step - loss: 0.0525 - mae: 0.1279\n",
            "Epoch 31/100\n",
            "108/108 [==============================] - 0s 1ms/step - loss: 0.0375 - mae: 0.1208\n",
            "Epoch 32/100\n",
            "108/108 [==============================] - 0s 1ms/step - loss: 0.0495 - mae: 0.1277\n",
            "Epoch 33/100\n",
            "108/108 [==============================] - 0s 1ms/step - loss: 0.0541 - mae: 0.1392\n",
            "Epoch 34/100\n",
            "108/108 [==============================] - 0s 1ms/step - loss: 0.0256 - mae: 0.1046\n",
            "Epoch 35/100\n",
            "108/108 [==============================] - 0s 1ms/step - loss: 0.0176 - mae: 0.0918\n",
            "Epoch 36/100\n",
            "108/108 [==============================] - 0s 1ms/step - loss: 0.0312 - mae: 0.1165\n",
            "Epoch 37/100\n",
            "108/108 [==============================] - 0s 2ms/step - loss: 0.0314 - mae: 0.1092\n",
            "Epoch 38/100\n",
            "108/108 [==============================] - 0s 1ms/step - loss: 0.0190 - mae: 0.0877\n",
            "Epoch 39/100\n",
            "108/108 [==============================] - 0s 1ms/step - loss: 0.0180 - mae: 0.0784\n",
            "Epoch 40/100\n",
            "108/108 [==============================] - 0s 1ms/step - loss: 0.0462 - mae: 0.1012\n",
            "Epoch 41/100\n",
            "108/108 [==============================] - 0s 1ms/step - loss: 0.0243 - mae: 0.0946\n",
            "Epoch 42/100\n",
            "108/108 [==============================] - 0s 2ms/step - loss: 0.0134 - mae: 0.0829\n",
            "Epoch 43/100\n",
            "108/108 [==============================] - 0s 1ms/step - loss: 0.0376 - mae: 0.1197\n",
            "Epoch 44/100\n",
            "108/108 [==============================] - 0s 1ms/step - loss: 0.0266 - mae: 0.1042\n",
            "Epoch 45/100\n",
            "108/108 [==============================] - 0s 1ms/step - loss: 0.0294 - mae: 0.1228\n",
            "Epoch 46/100\n",
            "108/108 [==============================] - 0s 1ms/step - loss: 0.0195 - mae: 0.0944\n",
            "Epoch 47/100\n",
            "108/108 [==============================] - 0s 1ms/step - loss: 0.0251 - mae: 0.1058\n",
            "Epoch 48/100\n",
            "108/108 [==============================] - 0s 1ms/step - loss: 0.0577 - mae: 0.1201\n",
            "Epoch 49/100\n",
            "108/108 [==============================] - 0s 1ms/step - loss: 0.0107 - mae: 0.0741\n",
            "Epoch 50/100\n",
            "108/108 [==============================] - 0s 1ms/step - loss: 0.0247 - mae: 0.0935\n",
            "Epoch 51/100\n",
            "108/108 [==============================] - 0s 1ms/step - loss: 0.0129 - mae: 0.0702\n",
            "Epoch 52/100\n",
            "108/108 [==============================] - 0s 1ms/step - loss: 0.0207 - mae: 0.0913\n",
            "Epoch 53/100\n",
            "108/108 [==============================] - 0s 2ms/step - loss: 0.0210 - mae: 0.1045\n",
            "Epoch 54/100\n",
            "108/108 [==============================] - 0s 1ms/step - loss: 0.0302 - mae: 0.0891\n",
            "Epoch 55/100\n",
            "108/108 [==============================] - 0s 1ms/step - loss: 0.0116 - mae: 0.0776\n",
            "Epoch 56/100\n",
            "108/108 [==============================] - 0s 1ms/step - loss: 0.0150 - mae: 0.0773\n",
            "Epoch 57/100\n",
            "108/108 [==============================] - 0s 1ms/step - loss: 0.0175 - mae: 0.0879\n",
            "Epoch 58/100\n",
            "108/108 [==============================] - 0s 1ms/step - loss: 0.0156 - mae: 0.0839\n",
            "Epoch 59/100\n",
            "108/108 [==============================] - 0s 1ms/step - loss: 0.0289 - mae: 0.1055\n",
            "Epoch 60/100\n",
            "108/108 [==============================] - 0s 2ms/step - loss: 0.0252 - mae: 0.1019\n",
            "Epoch 61/100\n",
            "108/108 [==============================] - 0s 1ms/step - loss: 0.0219 - mae: 0.1008\n",
            "Epoch 62/100\n",
            "108/108 [==============================] - 0s 1ms/step - loss: 0.0262 - mae: 0.0827\n",
            "Epoch 63/100\n",
            "108/108 [==============================] - 0s 1ms/step - loss: 0.0325 - mae: 0.1134\n",
            "Epoch 64/100\n",
            "108/108 [==============================] - 0s 1ms/step - loss: 0.0172 - mae: 0.0870\n",
            "Epoch 65/100\n",
            "108/108 [==============================] - 0s 1ms/step - loss: 0.0282 - mae: 0.1135\n",
            "Epoch 66/100\n",
            "108/108 [==============================] - 0s 1ms/step - loss: 0.0247 - mae: 0.0903\n",
            "Epoch 67/100\n",
            "108/108 [==============================] - 0s 1ms/step - loss: 0.0132 - mae: 0.0845\n",
            "Epoch 68/100\n",
            "108/108 [==============================] - 0s 2ms/step - loss: 0.0234 - mae: 0.0936\n",
            "Epoch 69/100\n",
            "108/108 [==============================] - 0s 1ms/step - loss: 0.0111 - mae: 0.0786\n",
            "Epoch 70/100\n",
            "108/108 [==============================] - 0s 1ms/step - loss: 0.0166 - mae: 0.0883\n",
            "Epoch 71/100\n",
            "108/108 [==============================] - 0s 1ms/step - loss: 0.0086 - mae: 0.0643\n",
            "Epoch 72/100\n",
            "108/108 [==============================] - 0s 1ms/step - loss: 0.0073 - mae: 0.0593\n",
            "Epoch 73/100\n",
            "108/108 [==============================] - 0s 1ms/step - loss: 0.0209 - mae: 0.0637\n",
            "Epoch 74/100\n",
            "108/108 [==============================] - 0s 1ms/step - loss: 0.0205 - mae: 0.0842\n",
            "Epoch 75/100\n",
            "108/108 [==============================] - 0s 1ms/step - loss: 0.0114 - mae: 0.0740\n",
            "Epoch 76/100\n",
            "108/108 [==============================] - 0s 2ms/step - loss: 0.0217 - mae: 0.0975\n",
            "Epoch 77/100\n",
            "108/108 [==============================] - 0s 1ms/step - loss: 0.0136 - mae: 0.0756\n",
            "Epoch 78/100\n",
            "108/108 [==============================] - 0s 1ms/step - loss: 0.0149 - mae: 0.0789\n",
            "Epoch 79/100\n",
            "108/108 [==============================] - 0s 1ms/step - loss: 0.0118 - mae: 0.0778\n",
            "Epoch 80/100\n",
            "108/108 [==============================] - 0s 1ms/step - loss: 0.0141 - mae: 0.0737\n",
            "Epoch 81/100\n",
            "108/108 [==============================] - 0s 1ms/step - loss: 0.0212 - mae: 0.0924\n",
            "Epoch 82/100\n",
            "108/108 [==============================] - 0s 1ms/step - loss: 0.0087 - mae: 0.0667\n",
            "Epoch 83/100\n",
            "108/108 [==============================] - 0s 2ms/step - loss: 0.0102 - mae: 0.0697\n",
            "Epoch 84/100\n",
            "108/108 [==============================] - 0s 1ms/step - loss: 0.0148 - mae: 0.0737\n",
            "Epoch 85/100\n",
            "108/108 [==============================] - 0s 1ms/step - loss: 0.0311 - mae: 0.0960\n",
            "Epoch 86/100\n",
            "108/108 [==============================] - 0s 1ms/step - loss: 0.0092 - mae: 0.0647\n",
            "Epoch 87/100\n",
            "108/108 [==============================] - 0s 1ms/step - loss: 0.0121 - mae: 0.0710\n",
            "Epoch 88/100\n",
            "108/108 [==============================] - 0s 1ms/step - loss: 0.0278 - mae: 0.1062\n",
            "Epoch 89/100\n",
            "108/108 [==============================] - 0s 2ms/step - loss: 0.0097 - mae: 0.0711\n",
            "Epoch 90/100\n",
            "108/108 [==============================] - 0s 1ms/step - loss: 0.0144 - mae: 0.0713\n",
            "Epoch 91/100\n",
            "108/108 [==============================] - 0s 2ms/step - loss: 0.0106 - mae: 0.0674\n",
            "Epoch 92/100\n",
            "108/108 [==============================] - 0s 1ms/step - loss: 0.0136 - mae: 0.0759\n",
            "Epoch 93/100\n",
            "108/108 [==============================] - 0s 1ms/step - loss: 0.0123 - mae: 0.0754\n",
            "Epoch 94/100\n",
            "108/108 [==============================] - 0s 1ms/step - loss: 0.0092 - mae: 0.0615\n",
            "Epoch 95/100\n",
            "108/108 [==============================] - 0s 1ms/step - loss: 0.0101 - mae: 0.0686\n",
            "Epoch 96/100\n",
            "108/108 [==============================] - 0s 2ms/step - loss: 0.0112 - mae: 0.0784\n",
            "Epoch 97/100\n",
            "108/108 [==============================] - 0s 2ms/step - loss: 0.0124 - mae: 0.0793\n",
            "Epoch 98/100\n",
            "108/108 [==============================] - 0s 1ms/step - loss: 0.0088 - mae: 0.0629\n",
            "Epoch 99/100\n",
            "108/108 [==============================] - 0s 1ms/step - loss: 0.0117 - mae: 0.0642\n",
            "Epoch 100/100\n",
            "108/108 [==============================] - 0s 1ms/step - loss: 0.0141 - mae: 0.0840\n",
            "WARNING:tensorflow:6 out of the last 11 calls to <function Model.make_test_function.<locals>.test_function at 0x7ff3aa251680> triggered tf.function retracing. Tracing is expensive and the excessive number of tracings could be due to (1) creating @tf.function repeatedly in a loop, (2) passing tensors with different shapes, (3) passing Python objects instead of tensors. For (1), please define your @tf.function outside of the loop. For (2), @tf.function has experimental_relax_shapes=True option that relaxes argument shapes that can avoid unnecessary retracing. For (3), please refer to https://www.tensorflow.org/guide/function#controlling_retracing and https://www.tensorflow.org/api_docs/python/tf/function for  more details.\n",
            "2/2 [==============================] - 0s 9ms/step - loss: 0.1272 - mae: 0.2569\n"
          ],
          "name": "stdout"
        }
      ]
    },
    {
      "cell_type": "code",
      "metadata": {
        "id": "eqQ4yyP0HNGD"
      },
      "source": [
        "average_mae_history_drop = [np.mean([x[i] for x in all_mae_histories_drop]) for i in range(num_epochs)]"
      ],
      "execution_count": 62,
      "outputs": []
    },
    {
      "cell_type": "code",
      "metadata": {
        "colab": {
          "base_uri": "https://localhost:8080/",
          "height": 279
        },
        "id": "TdKoslaGHrmf",
        "outputId": "03ebbc9f-3057-4766-f8f8-37d5cc89f23e"
      },
      "source": [
        "import matplotlib.pyplot as plt\n",
        "plt.plot(range(1, len(average_mae_history_drop) + 1), average_mae_history_drop)\n",
        "plt.xlabel('Epochs')\n",
        "plt.ylabel('Validation MAE')\n",
        "plt.show()"
      ],
      "execution_count": 63,
      "outputs": [
        {
          "output_type": "display_data",
          "data": {
            "image/png": "[encoded data removed]",
            "text/plain": [
              "<Figure size 432x288 with 1 Axes>"
            ]
          },
          "metadata": {
            "tags": [],
            "needs_background": "light"
          }
        }
      ]
    },
    {
      "cell_type": "code",
      "metadata": {
        "id": "a9khLMirH2FI"
      },
      "source": [
        ""
      ],
      "execution_count": null,
      "outputs": []
    }
  ]
}